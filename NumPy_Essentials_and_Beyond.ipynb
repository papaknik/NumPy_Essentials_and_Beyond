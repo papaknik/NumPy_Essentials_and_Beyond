{
 "cells": [
  {
   "cell_type": "markdown",
   "id": "7564a534-aa6c-4507-bd8e-25b6c4d75723",
   "metadata": {},
   "source": [
    "## **NumPy_Essentials_and_Beyond**"
   ]
  },
  {
   "cell_type": "code",
   "execution_count": 2,
   "id": "037e7a09-39e9-4f37-a56b-38e5c6b373df",
   "metadata": {},
   "outputs": [],
   "source": [
    "from IPython.core.interactiveshell import InteractiveShell\n",
    "InteractiveShell.ast_node_interactivity = \"all\""
   ]
  },
  {
   "cell_type": "markdown",
   "id": "63ec0487-7bbc-473e-ada5-b7721c725b25",
   "metadata": {},
   "source": [
    "- Installing NumPy library if not available in your Jupyter notebook environment"
   ]
  },
  {
   "cell_type": "code",
   "execution_count": 3,
   "id": "c21d9d25-28c0-48a8-9e1b-612981b638ac",
   "metadata": {},
   "outputs": [
    {
     "name": "stdout",
     "output_type": "stream",
     "text": [
      "Requirement already satisfied: numpy in c:\\users\\papak\\anaconda3\\lib\\site-packages (1.26.4)\n"
     ]
    }
   ],
   "source": [
    "!pip install numpy"
   ]
  },
  {
   "cell_type": "markdown",
   "id": "a5484148-7efe-44a8-be7c-625868d03ae3",
   "metadata": {},
   "source": [
    "- Importing the NumPy library into the current Python session and assigning it the alias 'np'"
   ]
  },
  {
   "cell_type": "code",
   "execution_count": 4,
   "id": "d6b20738-2e3e-41ed-ba4f-c24f290f10ab",
   "metadata": {},
   "outputs": [],
   "source": [
    "import numpy as np"
   ]
  },
  {
   "cell_type": "markdown",
   "id": "fe33bf67-2c67-4fa1-989a-9dcc28d619cc",
   "metadata": {},
   "source": [
    "In general, NumPy arrays (ndarrays) are designed to hold elements of a single, fixed data type. When you attempt to create an array with mixed data types, NumPy will automatically promote the data types to a common type according to specific rules.   \n",
    "By default, all elements in a NumPy array are of the same type, which optimizes performance and memory usage.   \n",
    "If you try to create an array with mixed types (such as integers and strings), NumPy will convert the elements to a common type (e.g., converting integers to strings)   \n",
    "to maintain a uniform data type across the array.   \n",
    "While you can set the argument dtype=object to build an array for storing heterogeneous data types, this goes beyond the scope of this tutorial, as our focus will be on numerical arrays. After all, NumPy stands for Numerical Python!   \n",
    "Additionally, if you need to work with heterogeneous datasets, you can use the pandas library, which is built upon NumPy and offers powerful tools for data manipulation."
   ]
  },
  {
   "cell_type": "markdown",
   "id": "7da685f4-bddb-413e-a474-c9287f5b0038",
   "metadata": {},
   "source": [
    "### Building blocks of nd arrays"
   ]
  },
  {
   "cell_type": "markdown",
   "id": "c5735798-6518-4ae5-8a23-a6c20ddebfdb",
   "metadata": {},
   "source": [
    "- Building a 1-dimensional array"
   ]
  },
  {
   "cell_type": "code",
   "execution_count": 295,
   "id": "36cce1bc-a301-4c26-9fb9-568507945ff3",
   "metadata": {},
   "outputs": [
    {
     "name": "stdout",
     "output_type": "stream",
     "text": [
      "[1 3 5 7]\n"
     ]
    }
   ],
   "source": [
    "array_1 = np.array([1,3,5,7])\n",
    "print(array_1)"
   ]
  },
  {
   "cell_type": "markdown",
   "id": "7134c1eb-3552-441f-bea3-957462e8fcac",
   "metadata": {},
   "source": [
    "- Building a 2-dimensional array"
   ]
  },
  {
   "cell_type": "code",
   "execution_count": 5,
   "id": "c1ee0777-2254-4ffd-bd3c-fb88329651b1",
   "metadata": {},
   "outputs": [
    {
     "name": "stdout",
     "output_type": "stream",
     "text": [
      "[[1 2 3 4]\n",
      " [5 6 7 8]]\n"
     ]
    }
   ],
   "source": [
    "array_2 = np.array([[1,2,3,4],[5,6,7,8]])\n",
    "print(array_2)"
   ]
  },
  {
   "cell_type": "markdown",
   "id": "2987aeb1-2f2a-4965-a2c7-afa8df0c5d8c",
   "metadata": {},
   "source": [
    "- Extracting the number of dimensions of the array with `.ndim` attribute"
   ]
  },
  {
   "cell_type": "code",
   "execution_count": 6,
   "id": "a62430b4-ae4d-4509-bc3b-89259910f5a4",
   "metadata": {},
   "outputs": [
    {
     "data": {
      "text/plain": [
       "2"
      ]
     },
     "execution_count": 6,
     "metadata": {},
     "output_type": "execute_result"
    }
   ],
   "source": [
    "array_2.ndim"
   ]
  },
  {
   "cell_type": "markdown",
   "id": "d09a5852-89d1-4bcb-9395-d2a2fb0fd12b",
   "metadata": {},
   "source": [
    "- Extracting the shape of the array (rows, columns) with `.shape` attribute"
   ]
  },
  {
   "cell_type": "code",
   "execution_count": 7,
   "id": "f415eb7b-d018-403b-b93c-d7e971200e40",
   "metadata": {},
   "outputs": [
    {
     "data": {
      "text/plain": [
       "(2, 4)"
      ]
     },
     "execution_count": 7,
     "metadata": {},
     "output_type": "execute_result"
    }
   ],
   "source": [
    "array_2.shape"
   ]
  },
  {
   "cell_type": "markdown",
   "id": "15f922b5-49d1-4beb-b14c-1e0e1e870bfc",
   "metadata": {},
   "source": [
    "##### The result is (2,4) meaning that the array consists of 2 rows and 4 columns"
   ]
  },
  {
   "cell_type": "markdown",
   "id": "88a158d2-dea2-447e-8d6d-9ae13b555803",
   "metadata": {},
   "source": [
    "- Getting the type of the array with `.dtype` attribute"
   ]
  },
  {
   "cell_type": "code",
   "execution_count": 8,
   "id": "e3b9371d-0336-4f89-9b67-51b2f982466d",
   "metadata": {},
   "outputs": [
    {
     "data": {
      "text/plain": [
       "dtype('int32')"
      ]
     },
     "execution_count": 8,
     "metadata": {},
     "output_type": "execute_result"
    }
   ],
   "source": [
    "array_1.dtype"
   ]
  },
  {
   "cell_type": "markdown",
   "id": "ac980c1e-dc51-4c65-81bf-2c7ad556798f",
   "metadata": {},
   "source": [
    "##### The result shows that the data type of the elements of array_1 is 'int32'.   \n",
    "##### You can explicitly define the data type of the elements of the array when you built it like below:"
   ]
  },
  {
   "cell_type": "code",
   "execution_count": 9,
   "id": "f88cf95a-9480-468b-86e8-b0660e864f55",
   "metadata": {},
   "outputs": [],
   "source": [
    "array_1 = np.array([1,3,5,7], dtype='int8')"
   ]
  },
  {
   "cell_type": "code",
   "execution_count": 10,
   "id": "6c389802-f457-4abd-be76-8da2412a2a16",
   "metadata": {},
   "outputs": [
    {
     "data": {
      "text/plain": [
       "dtype('int8')"
      ]
     },
     "execution_count": 10,
     "metadata": {},
     "output_type": "execute_result"
    }
   ],
   "source": [
    "array_1.dtype"
   ]
  },
  {
   "cell_type": "markdown",
   "id": "1ea36f43-926b-4f50-a36c-4d44bab3ad6d",
   "metadata": {},
   "source": [
    "##### Or you can also change the data type after the array creation using `.astype` function"
   ]
  },
  {
   "cell_type": "code",
   "execution_count": 11,
   "id": "113b56c0-3cb7-4e33-a2c6-ea03f3334dbb",
   "metadata": {},
   "outputs": [
    {
     "data": {
      "text/plain": [
       "dtype('int16')"
      ]
     },
     "execution_count": 11,
     "metadata": {},
     "output_type": "execute_result"
    }
   ],
   "source": [
    "array_1 = array_1.astype('int16')\n",
    "array_1.dtype"
   ]
  },
  {
   "cell_type": "markdown",
   "id": "2ded3c63-f220-430a-990b-1fcc27782dd9",
   "metadata": {},
   "source": [
    "- Extracting the total number of elements of an array with `.size` attribute"
   ]
  },
  {
   "cell_type": "code",
   "execution_count": 12,
   "id": "29b9a81e-6ff3-4db3-8bc8-df038863621f",
   "metadata": {},
   "outputs": [
    {
     "data": {
      "text/plain": [
       "4"
      ]
     },
     "execution_count": 12,
     "metadata": {},
     "output_type": "execute_result"
    },
    {
     "data": {
      "text/plain": [
       "8"
      ]
     },
     "execution_count": 12,
     "metadata": {},
     "output_type": "execute_result"
    }
   ],
   "source": [
    "array_1.size\n",
    "array_2.size"
   ]
  },
  {
   "cell_type": "markdown",
   "id": "be498e47-d643-46c6-83ad-05d9c12d764a",
   "metadata": {},
   "source": [
    "- 1D array(aka vector) "
   ]
  },
  {
   "cell_type": "code",
   "execution_count": 13,
   "id": "a192b629-984b-4c77-be7b-0f198c14fc0b",
   "metadata": {},
   "outputs": [
    {
     "name": "stdout",
     "output_type": "stream",
     "text": [
      "[1 3 5 7]\n"
     ]
    },
    {
     "data": {
      "text/plain": [
       "1"
      ]
     },
     "execution_count": 13,
     "metadata": {},
     "output_type": "execute_result"
    },
    {
     "data": {
      "text/plain": [
       "(4,)"
      ]
     },
     "execution_count": 13,
     "metadata": {},
     "output_type": "execute_result"
    },
    {
     "data": {
      "text/plain": [
       "4"
      ]
     },
     "execution_count": 13,
     "metadata": {},
     "output_type": "execute_result"
    },
    {
     "data": {
      "text/plain": [
       "4"
      ]
     },
     "execution_count": 13,
     "metadata": {},
     "output_type": "execute_result"
    }
   ],
   "source": [
    "array_1 = np.array([1,3,5,7])\n",
    "print(array_1)\n",
    "array_1.ndim\n",
    "array_1.shape\n",
    "len(array_1)\n",
    "array_1.size"
   ]
  },
  {
   "cell_type": "markdown",
   "id": "c02af7f1-0f41-4686-97e5-fe5521dc9d02",
   "metadata": {},
   "source": [
    "This 1D array has a shape (4,), which means that the size of its unique dimension/axis is 4.   \n",
    "**Only** in the case of 1D arrays the length and the size coincide and illustrate the number of elements inside the array."
   ]
  },
  {
   "cell_type": "markdown",
   "id": "a8d0d09d-7f0b-4411-a3ca-c703c78a0b8f",
   "metadata": {},
   "source": [
    "- 2D array(aka matrix)"
   ]
  },
  {
   "cell_type": "code",
   "execution_count": 14,
   "id": "45ddbf27-0ee9-41c3-a986-de650d23fbe1",
   "metadata": {},
   "outputs": [
    {
     "name": "stdout",
     "output_type": "stream",
     "text": [
      "[[1 2 3 4]\n",
      " [5 6 7 8]]\n"
     ]
    },
    {
     "data": {
      "text/plain": [
       "2"
      ]
     },
     "execution_count": 14,
     "metadata": {},
     "output_type": "execute_result"
    },
    {
     "data": {
      "text/plain": [
       "(2, 4)"
      ]
     },
     "execution_count": 14,
     "metadata": {},
     "output_type": "execute_result"
    },
    {
     "data": {
      "text/plain": [
       "2"
      ]
     },
     "execution_count": 14,
     "metadata": {},
     "output_type": "execute_result"
    },
    {
     "data": {
      "text/plain": [
       "8"
      ]
     },
     "execution_count": 14,
     "metadata": {},
     "output_type": "execute_result"
    }
   ],
   "source": [
    "array_2 = np.array([[1,2,3,4],[5,6,7,8]])\n",
    "print(array_2)\n",
    "array_2.ndim\n",
    "array_2.shape\n",
    "len(array_2)\n",
    "array_2.size"
   ]
  },
  {
   "cell_type": "markdown",
   "id": "324cca1a-36b7-46d1-b8ad-2bd86aa4c8a8",
   "metadata": {},
   "source": [
    "In this example, the resulting shape of the array is (2, 4), meaning the array consists of 2 rows and 4 columns, representing a matrix data structure.<br>The `len()` function returns the size of the first dimension/axis (the rows), which is 2, while the `.size` attribute results in the total number of elements<br> inside the array which is 8."
   ]
  },
  {
   "cell_type": "markdown",
   "id": "89a967a1-9d82-4df9-810c-feb2937dea2d",
   "metadata": {},
   "source": [
    "- 3D array(aka 3D tensor)"
   ]
  },
  {
   "cell_type": "code",
   "execution_count": 15,
   "id": "120aa76f-8846-49be-9d22-391073e47eec",
   "metadata": {},
   "outputs": [
    {
     "name": "stdout",
     "output_type": "stream",
     "text": [
      "[[[ 1  2  3]\n",
      "  [ 4  5  6]]\n",
      "\n",
      " [[ 7  8  9]\n",
      "  [10 11 12]]]\n"
     ]
    },
    {
     "data": {
      "text/plain": [
       "3"
      ]
     },
     "execution_count": 15,
     "metadata": {},
     "output_type": "execute_result"
    },
    {
     "data": {
      "text/plain": [
       "(2, 2, 3)"
      ]
     },
     "execution_count": 15,
     "metadata": {},
     "output_type": "execute_result"
    },
    {
     "data": {
      "text/plain": [
       "12"
      ]
     },
     "execution_count": 15,
     "metadata": {},
     "output_type": "execute_result"
    },
    {
     "data": {
      "text/plain": [
       "2"
      ]
     },
     "execution_count": 15,
     "metadata": {},
     "output_type": "execute_result"
    }
   ],
   "source": [
    "array_3 = np.array([[[1,2,3],[4,5,6]],[[7,8,9],[10,11,12]]])\n",
    "print(array_3)\n",
    "array_3.ndim\n",
    "array_3.shape\n",
    "array_3.size\n",
    "len(array_3)"
   ]
  },
  {
   "cell_type": "markdown",
   "id": "24e9494f-2d17-4d8c-bb58-92516ff1b3ed",
   "metadata": {},
   "source": [
    "The shape of array_3 results in (2, 2, 3), meaning there are 2 layers (the first dimension), each having 2 rows (the second dimension), and each row having 3 columns (the third dimension). You can visualize these 2 layers as 2 matrices in 3D space, one after the other. Each layer, in essence, is a separate 2*3 matrix.   \n",
    "So, in other words a 3D array/tensor visualizes matrices in 3D space, just like a matrix visualizes vectors (row or column vectors) in 2D space.   \n",
    "The number of dimensions is 3, as indicated by the ndim attribute. The `len()` function returns 2, representing the size of the first outermost axis (the layers), while the size attribute gives us the total number of elements inside the 3D array/tensor.\n",
    "You can visualize the full structure of this data object (3D array/tensor) as a cube within 3D space.   \n",
    "The cube can be flat, representing just one layer (a matrix in 3D space), or it can consist of multiple layers of matrices stacked together to form a cube-like shape."
   ]
  },
  {
   "cell_type": "markdown",
   "id": "fa8ad7d0-779e-4f9a-b0e3-f82a54545841",
   "metadata": {},
   "source": [
    "- 4D array(aka 4D tensor)"
   ]
  },
  {
   "cell_type": "code",
   "execution_count": 16,
   "id": "9fce1037-de58-4ded-a85a-ae5c67466eda",
   "metadata": {},
   "outputs": [
    {
     "name": "stdout",
     "output_type": "stream",
     "text": [
      "[[[[ 1  2]\n",
      "   [ 3  4]]\n",
      "\n",
      "  [[ 5  6]\n",
      "   [ 7  8]]\n",
      "\n",
      "  [[ 9 10]\n",
      "   [11 12]]]\n",
      "\n",
      "\n",
      " [[[13 14]\n",
      "   [15 16]]\n",
      "\n",
      "  [[17 18]\n",
      "   [19 20]]\n",
      "\n",
      "  [[21 22]\n",
      "   [23 24]]]\n",
      "\n",
      "\n",
      " [[[25 26]\n",
      "   [27 28]]\n",
      "\n",
      "  [[29 30]\n",
      "   [31 32]]\n",
      "\n",
      "  [[33 34]\n",
      "   [35 36]]]]\n"
     ]
    },
    {
     "data": {
      "text/plain": [
       "4"
      ]
     },
     "execution_count": 16,
     "metadata": {},
     "output_type": "execute_result"
    },
    {
     "data": {
      "text/plain": [
       "(3, 3, 2, 2)"
      ]
     },
     "execution_count": 16,
     "metadata": {},
     "output_type": "execute_result"
    },
    {
     "data": {
      "text/plain": [
       "36"
      ]
     },
     "execution_count": 16,
     "metadata": {},
     "output_type": "execute_result"
    },
    {
     "data": {
      "text/plain": [
       "3"
      ]
     },
     "execution_count": 16,
     "metadata": {},
     "output_type": "execute_result"
    }
   ],
   "source": [
    "array_4 = np.array([[[[1, 2], [3, 4]], [[5, 6], [7, 8]], [[9, 10], [11, 12]]],\n",
    "                     [[[13, 14], [15, 16]], [[17, 18], [19, 20]], [[21, 22], [23, 24]]],\n",
    "                     [[[25, 26], [27, 28]], [[29, 30], [31, 32]], [[33, 34], [35, 36]]]])\n",
    "print(array_4)\n",
    "array_4.ndim\n",
    "array_4.shape\n",
    "array_4.size\n",
    "len(array_4)"
   ]
  },
  {
   "cell_type": "markdown",
   "id": "79d979e8-46cf-4964-a309-1aea828936bc",
   "metadata": {},
   "source": [
    "Here comes the difficult part where we are called to explain and describe, or even 'worse' to 'visualize' a fourth dimension while living in a 3D world.\n",
    "The code informs us of 4 dimensions inside the array, having 36 elements in total and the length of the tensor (*the outermost dimension of the tensor*) has a size of 3, indicating there are 3 separate 3D objects.   \n",
    "The resulting shape is (3, 3, 2, 2). This can be thought of, as 3 different, independent 3d rectangular objects (the first dimension), where each object consists of 3 matrices (the second dimension), each matrix has 2 rows (the third dimension), and each row contains 2 columns (the fourth dimension). These objects are described as independent because they occupy different \"coordinates\" along the fourth dimension and, therefore, do not intersect. In an abstract sense, you can imagine this as a set of 3D objects existing in parallel, in a four-dimensional space, with no overlap or intersection between them. "
   ]
  },
  {
   "cell_type": "markdown",
   "id": "d2ceb080-ccd1-43bf-a5e6-cd13d0de6df0",
   "metadata": {},
   "source": [
    "### Manipulating np.arrays (Fancy Indexing, Boolean Masking and more)"
   ]
  },
  {
   "cell_type": "code",
   "execution_count": 272,
   "id": "5aa00361-ef52-4323-87d6-4e9b066c54c2",
   "metadata": {},
   "outputs": [],
   "source": [
    "array = np.array([[[1,2,3,4,5],[6,7,8,9,10]],[[11,12,13,14,15],[16,17,18,19,20]]])"
   ]
  },
  {
   "cell_type": "code",
   "execution_count": 273,
   "id": "5adf0c15-e53a-4ec8-8e28-3d8370962261",
   "metadata": {},
   "outputs": [
    {
     "name": "stdout",
     "output_type": "stream",
     "text": [
      "[[[ 1  2  3  4  5]\n",
      "  [ 6  7  8  9 10]]\n",
      "\n",
      " [[11 12 13 14 15]\n",
      "  [16 17 18 19 20]]]\n"
     ]
    },
    {
     "data": {
      "text/plain": [
       "3"
      ]
     },
     "execution_count": 273,
     "metadata": {},
     "output_type": "execute_result"
    },
    {
     "data": {
      "text/plain": [
       "(2, 2, 5)"
      ]
     },
     "execution_count": 273,
     "metadata": {},
     "output_type": "execute_result"
    },
    {
     "data": {
      "text/plain": [
       "20"
      ]
     },
     "execution_count": 273,
     "metadata": {},
     "output_type": "execute_result"
    }
   ],
   "source": [
    "print(array)\n",
    "array.ndim\n",
    "array.shape\n",
    "array.size"
   ]
  },
  {
   "cell_type": "markdown",
   "id": "a5979344-c7df-42fd-a099-ea924d156131",
   "metadata": {},
   "source": [
    "Before accessing and modifying elements in an np.array, note that NumPy uses 0-based indexing, and the indices follow the order of the axes as shown in the `.shape` attribute, starting from the outermost dimension (first axis) and moving inward to the last innermost axis to the right"
   ]
  },
  {
   "cell_type": "markdown",
   "id": "2a9df315-82ff-4a16-8dd9-05aa1d6b1307",
   "metadata": {},
   "source": [
    "Accessing the element of the array on the first matrix (index 0), on the second row (index 1), on the second column (index 1)"
   ]
  },
  {
   "cell_type": "code",
   "execution_count": 274,
   "id": "fc76673b-f9a6-4db9-9e64-3a70d092034e",
   "metadata": {},
   "outputs": [
    {
     "data": {
      "text/plain": [
       "7"
      ]
     },
     "execution_count": 274,
     "metadata": {},
     "output_type": "execute_result"
    }
   ],
   "source": [
    "array[0,1,1]"
   ]
  },
  {
   "cell_type": "markdown",
   "id": "f3a03651-76e9-4927-88f6-b68fbb5618a0",
   "metadata": {},
   "source": [
    "Accessing all array elements of the second matrix (index 1) in the first row (index 0). By Using ':' we select all columns"
   ]
  },
  {
   "cell_type": "code",
   "execution_count": 275,
   "id": "71beffa8-5b26-443a-8314-bc8cea46af15",
   "metadata": {},
   "outputs": [
    {
     "data": {
      "text/plain": [
       "array([11, 12, 13, 14, 15])"
      ]
     },
     "execution_count": 275,
     "metadata": {},
     "output_type": "execute_result"
    }
   ],
   "source": [
    "array[1,0,:]"
   ]
  },
  {
   "cell_type": "markdown",
   "id": "06cffc64-aff0-47b2-9493-ad5f4a69a8ca",
   "metadata": {},
   "source": [
    "Accessing all array elements of the first matrix (index 0), using ':' for all the rows, of the fourth column (index 3)"
   ]
  },
  {
   "cell_type": "code",
   "execution_count": 276,
   "id": "68a1a87d-8d40-4f47-97d1-cbc5435fcdff",
   "metadata": {},
   "outputs": [
    {
     "data": {
      "text/plain": [
       "array([4, 9])"
      ]
     },
     "execution_count": 276,
     "metadata": {},
     "output_type": "execute_result"
    }
   ],
   "source": [
    "array[0,:,3]"
   ]
  },
  {
   "cell_type": "markdown",
   "id": "ea5af04d-b127-4ba2-83a3-a321e3e3c2b3",
   "metadata": {},
   "source": [
    "Accessing all array elements in both matrices (using ':'), all the rows (using again ':'), that are on the first 3 columns (using '0:3')   \n",
    "Using 0:3 we mean the range from 0 up to 3 with the starting point/index being inclusive and the ending point/index being exclusive.   \n",
    "Therefore 0:3 results in indices 0,1,2 which correspond to columns 1,2 and 3."
   ]
  },
  {
   "cell_type": "code",
   "execution_count": 279,
   "id": "d3ac93bf-9638-43fb-a153-10d7b45f9a27",
   "metadata": {},
   "outputs": [
    {
     "data": {
      "text/plain": [
       "array([[[ 1,  2,  3],\n",
       "        [ 6,  7,  8]],\n",
       "\n",
       "       [[11, 12, 13],\n",
       "        [16, 17, 18]]])"
      ]
     },
     "execution_count": 279,
     "metadata": {},
     "output_type": "execute_result"
    }
   ],
   "source": [
    "array[:,:,0:3]"
   ]
  },
  {
   "cell_type": "markdown",
   "id": "06d41fc3-d117-43ee-8cce-7327653edef8",
   "metadata": {},
   "source": [
    "Accessing all array elements in both matrices (using':'), on the first row (index 0), specifically on the third and fifth column (using the tuple (2,4) to refer to the corresponding indices-Index 2 for column 3 and index 4 for column 5)"
   ]
  },
  {
   "cell_type": "code",
   "execution_count": 284,
   "id": "29af4cdc-d471-47c6-9eae-897abfef9022",
   "metadata": {},
   "outputs": [
    {
     "data": {
      "text/plain": [
       "array([[ 3,  5],\n",
       "       [13, 15]])"
      ]
     },
     "execution_count": 284,
     "metadata": {},
     "output_type": "execute_result"
    }
   ],
   "source": [
    "# This is also called 'fancy indexing' because of the use of a tuple to restrict our data slicing on specific elements\n",
    "array[:,0,(2,4)]"
   ]
  },
  {
   "cell_type": "markdown",
   "id": "c5231137-dd41-4e0b-9e32-031337249764",
   "metadata": {},
   "source": [
    "Accessing the last element of each row on each matrix   \n",
    "The index -1 refers to the last element in the specified axis, allowing us to easily retrieve the final column \n",
    "without needing to know the total number of columns.   \n",
    "This is particularly useful for dynamic arrays where the size may vary, or for arrays where the\n",
    "number of rows or columns may be big and counting from the end   \n",
    "(<u>negative indexing</u>) might be more convenient"
   ]
  },
  {
   "cell_type": "code",
   "execution_count": 289,
   "id": "3d2ef172-68dd-4bb8-9f66-7df5ce659820",
   "metadata": {},
   "outputs": [
    {
     "data": {
      "text/plain": [
       "array([[ 5, 10],\n",
       "       [15, 20]])"
      ]
     },
     "execution_count": 289,
     "metadata": {},
     "output_type": "execute_result"
    }
   ],
   "source": [
    "array[:,:,-1]"
   ]
  },
  {
   "cell_type": "markdown",
   "id": "5af48b00-562f-48e2-bfb3-3f76cd3d2b58",
   "metadata": {},
   "source": [
    "Modifying the element on the 2 second matrix, the second row, the third element by changing it to 0"
   ]
  },
  {
   "cell_type": "code",
   "execution_count": 290,
   "id": "df5165b6-bf78-42b3-b603-50594d2d2df3",
   "metadata": {},
   "outputs": [
    {
     "name": "stdout",
     "output_type": "stream",
     "text": [
      "[[[ 1  2  3  4  5]\n",
      "  [ 6  7  8  9 10]]\n",
      "\n",
      " [[11 12 13 14 15]\n",
      "  [16 17  0 19 20]]]\n"
     ]
    }
   ],
   "source": [
    "array[1,1,2] = 0\n",
    "print(array)"
   ]
  },
  {
   "cell_type": "markdown",
   "id": "a88d4668-395b-4937-8905-508f17ed59c8",
   "metadata": {},
   "source": [
    "Modifying the elements on the 2 second matrix, the first row, on the second and fifth column by changing them to -1"
   ]
  },
  {
   "cell_type": "code",
   "execution_count": 291,
   "id": "0d351013-db69-4cee-b1c1-dee3ac8fd789",
   "metadata": {},
   "outputs": [
    {
     "name": "stdout",
     "output_type": "stream",
     "text": [
      "[[[ 1  2  3  4  5]\n",
      "  [ 6  7  8  9 10]]\n",
      "\n",
      " [[11 -1 13 14 -1]\n",
      "  [16 17  0 19 20]]]\n"
     ]
    }
   ],
   "source": [
    "array[1,0,(1,4)] = -1\n",
    "print(array)"
   ]
  },
  {
   "cell_type": "markdown",
   "id": "0ddaf01a-3852-486c-bddd-29c2a499f1a9",
   "metadata": {},
   "source": [
    "Modify the first, third and fifth element of the second row on the first matrix to 10.   \n",
    "Using the slice 0:5:2 on the column axis, will help us start at index 0 (the first element), go up to index 5(not included), using a step size of 2,   \n",
    "which selects every second element. This slice on the columns will result on indices 0,2 and 4 that correspond to the first, third and fifth column."
   ]
  },
  {
   "cell_type": "code",
   "execution_count": 293,
   "id": "7f99c066-6f69-4f2c-a641-8b29c090c3f8",
   "metadata": {},
   "outputs": [
    {
     "name": "stdout",
     "output_type": "stream",
     "text": [
      "[[[ 1  2  3  4  5]\n",
      "  [10  7 10  9 10]]\n",
      "\n",
      " [[11 -1 13 14 -1]\n",
      "  [16 17  0 19 20]]]\n"
     ]
    }
   ],
   "source": [
    "array[0,1,0:5:2] = 10\n",
    "print(array)"
   ]
  },
  {
   "cell_type": "markdown",
   "id": "d2df7678-c075-4b22-88ad-49c51347d7a0",
   "metadata": {},
   "source": [
    "Modify all the elements of the first row on the second matrix to -50"
   ]
  },
  {
   "cell_type": "code",
   "execution_count": 28,
   "id": "8dae8e99-6a69-4148-8dd2-132906fa747b",
   "metadata": {},
   "outputs": [
    {
     "name": "stdout",
     "output_type": "stream",
     "text": [
      "[[[  1   2   3   4   5]\n",
      "  [ 10   7  10   9  10]]\n",
      "\n",
      " [[-50 -50 -50 -50 -50]\n",
      "  [ 16  17   0  19  20]]]\n"
     ]
    }
   ],
   "source": [
    "array[1,0,:] = -50\n",
    "print(array)"
   ]
  },
  {
   "cell_type": "markdown",
   "id": "24936db3-414f-4eb1-aa19-f4795f5be519",
   "metadata": {},
   "source": [
    "Replace the value of the third column, on the first row on the first matrix with -1000, and the element on the fifth column on the second row   \n",
    "on the second matrix with 1000"
   ]
  },
  {
   "cell_type": "code",
   "execution_count": 29,
   "id": "09a0527e-d11e-40f8-a151-d2e2e0288e64",
   "metadata": {},
   "outputs": [
    {
     "data": {
      "text/plain": [
       "array([[[  1,   2,   3,   4,   5],\n",
       "        [ 10,   7,  10,   9,  10]],\n",
       "\n",
       "       [[-50, -50, -50, -50, -50],\n",
       "        [ 16,  17,   0,  19,  20]]])"
      ]
     },
     "execution_count": 29,
     "metadata": {},
     "output_type": "execute_result"
    },
    {
     "data": {
      "text/plain": [
       "array([[[    1,     2, -1000,     4,     5],\n",
       "        [   10,     7,    10,     9,    10]],\n",
       "\n",
       "       [[  -50,   -50,   -50,   -50,   -50],\n",
       "        [   16,    17,     0,    19,  1000]]])"
      ]
     },
     "execution_count": 29,
     "metadata": {},
     "output_type": "execute_result"
    }
   ],
   "source": [
    "b = array.copy()\n",
    "b\n",
    "b[(0,1),(0,1),(2,4)] = (-1000, 1000)\n",
    "b"
   ]
  },
  {
   "cell_type": "markdown",
   "id": "8f5dcbec-75d3-4d46-a8a1-219a02603485",
   "metadata": {},
   "source": [
    "- replacing values meeting specific criteria with the use of 'np.where()'"
   ]
  },
  {
   "cell_type": "code",
   "execution_count": 30,
   "id": "95f77043-f89f-43fb-8278-ca5b7b7b6580",
   "metadata": {},
   "outputs": [
    {
     "data": {
      "text/plain": [
       "array([[11,  7,  9],\n",
       "       [ 5, 15,  9],\n",
       "       [14,  5,  7]])"
      ]
     },
     "execution_count": 30,
     "metadata": {},
     "output_type": "execute_result"
    },
    {
     "data": {
      "text/plain": [
       "array([11, 15, 14])"
      ]
     },
     "execution_count": 30,
     "metadata": {},
     "output_type": "execute_result"
    },
    {
     "data": {
      "text/plain": [
       "array([[0, 7, 9],\n",
       "       [5, 0, 9],\n",
       "       [0, 5, 7]])"
      ]
     },
     "execution_count": 30,
     "metadata": {},
     "output_type": "execute_result"
    }
   ],
   "source": [
    "T = np.array([[11,7,9],[5,15,9],[14,5,7]])\n",
    "T\n",
    "T[np.where(T > 10)]\n",
    "T[np.where(T > 10)]=0\n",
    "T"
   ]
  },
  {
   "cell_type": "code",
   "execution_count": 31,
   "id": "a8c96325-9da2-48e9-9f00-b95da48c503d",
   "metadata": {},
   "outputs": [
    {
     "data": {
      "text/plain": [
       "array([[11,  7,  9],\n",
       "       [ 5, 15,  9],\n",
       "       [14,  5,  7]])"
      ]
     },
     "execution_count": 31,
     "metadata": {},
     "output_type": "execute_result"
    },
    {
     "data": {
      "text/plain": [
       "array([[11,  0,  0],\n",
       "       [ 0, 15,  0],\n",
       "       [14,  0,  0]])"
      ]
     },
     "execution_count": 31,
     "metadata": {},
     "output_type": "execute_result"
    }
   ],
   "source": [
    "T = np.array([[11,7,9],[5,15,9],[14,5,7]])\n",
    "T\n",
    "np.where(T<10, 0, T)"
   ]
  },
  {
   "cell_type": "markdown",
   "id": "bfa2b7d1-b6b6-4aa9-b004-e71fb6189fc9",
   "metadata": {},
   "source": [
    "- Boolean Indexing"
   ]
  },
  {
   "cell_type": "code",
   "execution_count": 32,
   "id": "f598194d-91e4-4834-9179-1af17c1b27f1",
   "metadata": {},
   "outputs": [
    {
     "data": {
      "text/plain": [
       "array([[[  1,   2,   3,   4,   5],\n",
       "        [ 10,   7,  10,   9,  10]],\n",
       "\n",
       "       [[-50, -50, -50, -50, -50],\n",
       "        [ 16,  17,   0,  19,  20]]])"
      ]
     },
     "execution_count": 32,
     "metadata": {},
     "output_type": "execute_result"
    },
    {
     "data": {
      "text/plain": [
       "array([16, 17, 19, 20])"
      ]
     },
     "execution_count": 32,
     "metadata": {},
     "output_type": "execute_result"
    },
    {
     "data": {
      "text/plain": [
       "array([7, 9])"
      ]
     },
     "execution_count": 32,
     "metadata": {},
     "output_type": "execute_result"
    }
   ],
   "source": [
    "array\n",
    "array[array > 10]\n",
    "bool1 = array > 5\n",
    "bool2 = array < 10\n",
    "array[bool1 & bool2]"
   ]
  },
  {
   "cell_type": "markdown",
   "id": "bdab26cc-fe74-4c95-bc7c-5ef28a911ae0",
   "metadata": {},
   "source": [
    "- Unique values of an array"
   ]
  },
  {
   "cell_type": "markdown",
   "id": "65bbc21d-815d-4ac6-9aa2-9a3034e0385a",
   "metadata": {},
   "source": [
    "Returns the unique elements of an array along with the count of their occurrences if you choose so"
   ]
  },
  {
   "cell_type": "code",
   "execution_count": 294,
   "id": "36eec8a1-eec6-4a99-87f9-919fcd163172",
   "metadata": {},
   "outputs": [
    {
     "data": {
      "text/plain": [
       "array([[[ 1,  2,  3,  4,  5],\n",
       "        [10,  7, 10,  9, 10]],\n",
       "\n",
       "       [[11, -1, 13, 14, -1],\n",
       "        [16, 17,  0, 19, 20]]])"
      ]
     },
     "execution_count": 294,
     "metadata": {},
     "output_type": "execute_result"
    },
    {
     "data": {
      "text/plain": [
       "(array([-1,  0,  1,  2,  3,  4,  5,  7,  9, 10, 11, 13, 14, 16, 17, 19, 20]),\n",
       " array([2, 1, 1, 1, 1, 1, 1, 1, 1, 3, 1, 1, 1, 1, 1, 1, 1], dtype=int64))"
      ]
     },
     "execution_count": 294,
     "metadata": {},
     "output_type": "execute_result"
    }
   ],
   "source": [
    "array\n",
    "np.unique(array, return_counts=True)"
   ]
  },
  {
   "cell_type": "markdown",
   "id": "0527ad77-3f3f-4282-aa9d-05994821c5a2",
   "metadata": {},
   "source": [
    "- Flattening an array"
   ]
  },
  {
   "cell_type": "code",
   "execution_count": 34,
   "id": "745cdba5-99e6-4531-b5e7-51fcfe39e554",
   "metadata": {},
   "outputs": [
    {
     "data": {
      "text/plain": [
       "array([[[  1,   2,   3,   4,   5],\n",
       "        [ 10,   7,  10,   9,  10]],\n",
       "\n",
       "       [[-50, -50, -50, -50, -50],\n",
       "        [ 16,  17,   0,  19,  20]]])"
      ]
     },
     "execution_count": 34,
     "metadata": {},
     "output_type": "execute_result"
    },
    {
     "data": {
      "text/plain": [
       "(2, 2, 5)"
      ]
     },
     "execution_count": 34,
     "metadata": {},
     "output_type": "execute_result"
    },
    {
     "data": {
      "text/plain": [
       "array([  1,   2,   3,   4,   5,  10,   7,  10,   9,  10, -50, -50, -50,\n",
       "       -50, -50,  16,  17,   0,  19,  20])"
      ]
     },
     "execution_count": 34,
     "metadata": {},
     "output_type": "execute_result"
    },
    {
     "data": {
      "text/plain": [
       "(20,)"
      ]
     },
     "execution_count": 34,
     "metadata": {},
     "output_type": "execute_result"
    }
   ],
   "source": [
    "array\n",
    "array.shape\n",
    "array.flatten()\n",
    "array.flatten().shape"
   ]
  },
  {
   "cell_type": "markdown",
   "id": "f5716560-ea90-4f24-a5dd-c5c1442b4a75",
   "metadata": {},
   "source": [
    "- Reshaping an array"
   ]
  },
  {
   "cell_type": "code",
   "execution_count": 35,
   "id": "2d34bd04-f0f9-4155-ac69-8bc121304a3b",
   "metadata": {},
   "outputs": [
    {
     "data": {
      "text/plain": [
       "array([[[  1,   2,   3,   4,   5],\n",
       "        [ 10,   7,  10,   9,  10]],\n",
       "\n",
       "       [[-50, -50, -50, -50, -50],\n",
       "        [ 16,  17,   0,  19,  20]]])"
      ]
     },
     "execution_count": 35,
     "metadata": {},
     "output_type": "execute_result"
    },
    {
     "data": {
      "text/plain": [
       "(2, 2, 5)"
      ]
     },
     "execution_count": 35,
     "metadata": {},
     "output_type": "execute_result"
    },
    {
     "data": {
      "text/plain": [
       "array([[  1,   2,   3,   4,   5],\n",
       "       [ 10,   7,  10,   9,  10],\n",
       "       [-50, -50, -50, -50, -50],\n",
       "       [ 16,  17,   0,  19,  20]])"
      ]
     },
     "execution_count": 35,
     "metadata": {},
     "output_type": "execute_result"
    },
    {
     "data": {
      "text/plain": [
       "array([[[  1,   2,   3,   4,   5]],\n",
       "\n",
       "       [[ 10,   7,  10,   9,  10]],\n",
       "\n",
       "       [[-50, -50, -50, -50, -50]],\n",
       "\n",
       "       [[ 16,  17,   0,  19,  20]]])"
      ]
     },
     "execution_count": 35,
     "metadata": {},
     "output_type": "execute_result"
    }
   ],
   "source": [
    "array\n",
    "array.shape\n",
    "np.reshape(array, (4,5))\n",
    "np.reshape(array, (4,1,5))"
   ]
  },
  {
   "cell_type": "markdown",
   "id": "00030dc0-f84b-4ab0-a72d-d5f3fef3ef5e",
   "metadata": {},
   "source": [
    "- Flipping an array"
   ]
  },
  {
   "cell_type": "code",
   "execution_count": 36,
   "id": "5271dcf2-6306-4838-9e49-787dd3cb0591",
   "metadata": {},
   "outputs": [
    {
     "data": {
      "text/plain": [
       "array([[1, 2, 3],\n",
       "       [4, 5, 6],\n",
       "       [7, 8, 9]])"
      ]
     },
     "execution_count": 36,
     "metadata": {},
     "output_type": "execute_result"
    },
    {
     "data": {
      "text/plain": [
       "array([[9, 8, 7],\n",
       "       [6, 5, 4],\n",
       "       [3, 2, 1]])"
      ]
     },
     "execution_count": 36,
     "metadata": {},
     "output_type": "execute_result"
    },
    {
     "data": {
      "text/plain": [
       "array([[7, 8, 9],\n",
       "       [4, 5, 6],\n",
       "       [1, 2, 3]])"
      ]
     },
     "execution_count": 36,
     "metadata": {},
     "output_type": "execute_result"
    },
    {
     "data": {
      "text/plain": [
       "array([[3, 2, 1],\n",
       "       [6, 5, 4],\n",
       "       [9, 8, 7]])"
      ]
     },
     "execution_count": 36,
     "metadata": {},
     "output_type": "execute_result"
    }
   ],
   "source": [
    "ar = np.array([[1,2,3],[4,5,6],[7,8,9]])\n",
    "ar\n",
    "# Flipping all axis of the array\n",
    "flipped_ar = np.flip(ar)\n",
    "flipped_ar\n",
    "\n",
    "# Flipping the row axis of the array\n",
    "flipped_0_ar = np.flip(ar, axis=0)\n",
    "flipped_0_ar\n",
    "\n",
    "# Flipping the column axis of the array\n",
    "flipped_1_ar = np.flip(ar, axis=1)\n",
    "flipped_1_ar"
   ]
  },
  {
   "cell_type": "markdown",
   "id": "3ac386f1-d9f4-4391-8ba8-898cb12ddb98",
   "metadata": {},
   "source": [
    "- Transposing an array"
   ]
  },
  {
   "cell_type": "code",
   "execution_count": 37,
   "id": "56c407d6-5623-469a-85d6-d5710c1ce439",
   "metadata": {},
   "outputs": [
    {
     "data": {
      "text/plain": [
       "array([[1, 2, 3],\n",
       "       [4, 5, 6],\n",
       "       [7, 8, 9]])"
      ]
     },
     "execution_count": 37,
     "metadata": {},
     "output_type": "execute_result"
    },
    {
     "data": {
      "text/plain": [
       "array([[1, 4, 7],\n",
       "       [2, 5, 8],\n",
       "       [3, 6, 9]])"
      ]
     },
     "execution_count": 37,
     "metadata": {},
     "output_type": "execute_result"
    }
   ],
   "source": [
    "ar = np.array([[1,2,3],[4,5,6],[7,8,9]])\n",
    "ar\n",
    "t = np.transpose(ar)\n",
    "t"
   ]
  },
  {
   "cell_type": "markdown",
   "id": "906237d0-67dd-46d0-9f89-f6bb2aa5d56a",
   "metadata": {},
   "source": [
    "- Vertically stacking arrays"
   ]
  },
  {
   "cell_type": "code",
   "execution_count": 38,
   "id": "09c74f09-d710-4947-87a0-fb18311f2191",
   "metadata": {},
   "outputs": [
    {
     "data": {
      "text/plain": [
       "array([[ 1,  2,  3],\n",
       "       [ 4,  5,  6],\n",
       "       [ 7,  8,  9],\n",
       "       [10, 11, 12]])"
      ]
     },
     "execution_count": 38,
     "metadata": {},
     "output_type": "execute_result"
    },
    {
     "data": {
      "text/plain": [
       "(4, 3)"
      ]
     },
     "execution_count": 38,
     "metadata": {},
     "output_type": "execute_result"
    }
   ],
   "source": [
    "a1 = np.array([1,2,3])\n",
    "a2 = np.array([4,5,6])\n",
    "a3 = np.array([7,8,9])\n",
    "a4 = np.array([10,11,12])\n",
    "v = np.vstack([a1,a2,a3,a4])\n",
    "v\n",
    "v.shape"
   ]
  },
  {
   "cell_type": "markdown",
   "id": "91de456d-ce7d-4df6-b235-597abac18b2f",
   "metadata": {},
   "source": [
    "- Horizontally stacking arrays"
   ]
  },
  {
   "cell_type": "code",
   "execution_count": 39,
   "id": "0432c2bb-f2a5-4f3c-a5e8-0c8fe1bb46de",
   "metadata": {},
   "outputs": [
    {
     "data": {
      "text/plain": [
       "array([[4, 4, 4],\n",
       "       [4, 4, 4],\n",
       "       [4, 4, 4]])"
      ]
     },
     "execution_count": 39,
     "metadata": {},
     "output_type": "execute_result"
    },
    {
     "data": {
      "text/plain": [
       "array([[-1, -1],\n",
       "       [-1, -1],\n",
       "       [-1, -1]])"
      ]
     },
     "execution_count": 39,
     "metadata": {},
     "output_type": "execute_result"
    },
    {
     "data": {
      "text/plain": [
       "array([[ 4,  4,  4, -1, -1],\n",
       "       [ 4,  4,  4, -1, -1],\n",
       "       [ 4,  4,  4, -1, -1]])"
      ]
     },
     "execution_count": 39,
     "metadata": {},
     "output_type": "execute_result"
    },
    {
     "data": {
      "text/plain": [
       "(3, 5)"
      ]
     },
     "execution_count": 39,
     "metadata": {},
     "output_type": "execute_result"
    }
   ],
   "source": [
    "b1 = np.full((3,3), 4)\n",
    "b1\n",
    "b2 = np.full((3,2), -1)\n",
    "b2\n",
    "h = np.hstack([b1,b2])\n",
    "h\n",
    "h.shape"
   ]
  },
  {
   "cell_type": "markdown",
   "id": "eed52cec-d7bc-4aea-9ecb-78d27e6508dd",
   "metadata": {},
   "source": [
    "- Concatenating arrays"
   ]
  },
  {
   "cell_type": "markdown",
   "id": "3f0823ae-15c4-42d3-a40d-83282b0d3213",
   "metadata": {},
   "source": [
    "For concatenation to work, all dimensions of the input arrays, except for the concatenation axis, must match exactly.\n",
    "In this example, r1 and r2 cannot be   \n",
    "concatenated along axis=1 initially because the sizes along axis=0 differ: r1 has a size of 4 along axis=0, while r2 has a size of 2 along axis=0.   \n",
    "This is also clearly stated in the ValueError we get."
   ]
  },
  {
   "cell_type": "code",
   "execution_count": 40,
   "id": "285c6fe5-b0fb-471f-bccd-8a90a2c57c40",
   "metadata": {},
   "outputs": [
    {
     "data": {
      "text/plain": [
       "array([[1, 2],\n",
       "       [2, 4],\n",
       "       [3, 5],\n",
       "       [4, 7]])"
      ]
     },
     "execution_count": 40,
     "metadata": {},
     "output_type": "execute_result"
    },
    {
     "data": {
      "text/plain": [
       "array([[ 5, 15],\n",
       "       [ 6, 17]])"
      ]
     },
     "execution_count": 40,
     "metadata": {},
     "output_type": "execute_result"
    },
    {
     "data": {
      "text/plain": [
       "array([[ 1,  2],\n",
       "       [ 2,  4],\n",
       "       [ 3,  5],\n",
       "       [ 4,  7],\n",
       "       [ 5, 15],\n",
       "       [ 6, 17]])"
      ]
     },
     "execution_count": 40,
     "metadata": {},
     "output_type": "execute_result"
    },
    {
     "ename": "ValueError",
     "evalue": "all the input array dimensions except for the concatenation axis must match exactly, but along dimension 0, the array at index 0 has size 4 and the array at index 1 has size 2",
     "output_type": "error",
     "traceback": [
      "\u001b[1;31m---------------------------------------------------------------------------\u001b[0m",
      "\u001b[1;31mValueError\u001b[0m                                Traceback (most recent call last)",
      "Cell \u001b[1;32mIn[40], line 6\u001b[0m\n\u001b[0;32m      4\u001b[0m r2\n\u001b[0;32m      5\u001b[0m np\u001b[38;5;241m.\u001b[39mconcatenate((r1,r2), axis\u001b[38;5;241m=\u001b[39m\u001b[38;5;241m0\u001b[39m)\n\u001b[1;32m----> 6\u001b[0m np\u001b[38;5;241m.\u001b[39mconcatenate((r1,r2), axis\u001b[38;5;241m=\u001b[39m\u001b[38;5;241m1\u001b[39m)\n",
      "\u001b[1;31mValueError\u001b[0m: all the input array dimensions except for the concatenation axis must match exactly, but along dimension 0, the array at index 0 has size 4 and the array at index 1 has size 2"
     ]
    }
   ],
   "source": [
    "r1 = np.array([[1,2],[2,4],[3,5],[4,7]])\n",
    "r2 = np.array([[5,15],[6,17]])\n",
    "r1\n",
    "r2\n",
    "np.concatenate((r1,r2), axis=0)\n",
    "np.concatenate((r1,r2), axis=1)"
   ]
  },
  {
   "cell_type": "markdown",
   "id": "37e98dc2-612a-4aa8-8791-dda9b417bd5e",
   "metadata": {},
   "source": [
    "To fix the above ValueError, we reshape r1 so that the size along axis=0 matches the size of r2 (2 in this case).   \n",
    "This will make both arrays have the same size along axis=0, allowing concatenation along axis=1."
   ]
  },
  {
   "cell_type": "code",
   "execution_count": 41,
   "id": "bd25e1f6-8860-4cfd-bdb4-ff087b725ee3",
   "metadata": {},
   "outputs": [
    {
     "data": {
      "text/plain": [
       "array([[ 1,  2,  2,  4,  5, 15],\n",
       "       [ 3,  5,  4,  7,  6, 17]])"
      ]
     },
     "execution_count": 41,
     "metadata": {},
     "output_type": "execute_result"
    }
   ],
   "source": [
    "r1 = np.reshape(r1, (2,4))\n",
    "np.concatenate((r1,r2),axis=1)"
   ]
  },
  {
   "cell_type": "markdown",
   "id": "b601535b-c2fc-4cc7-894c-33113299a378",
   "metadata": {},
   "source": [
    "- sorting an array"
   ]
  },
  {
   "cell_type": "code",
   "execution_count": 42,
   "id": "e1eebeb3-d5b8-41a9-815a-d671c037bf80",
   "metadata": {},
   "outputs": [
    {
     "data": {
      "text/plain": [
       "array([[[ 11,   2,  35],\n",
       "        [  4,  51,   6]],\n",
       "\n",
       "       [[ 74,   8,   9],\n",
       "        [100,  15,  12]]])"
      ]
     },
     "execution_count": 42,
     "metadata": {},
     "output_type": "execute_result"
    },
    {
     "data": {
      "text/plain": [
       "array([[[ 11,   2,   9],\n",
       "        [  4,  15,   6]],\n",
       "\n",
       "       [[ 74,   8,  35],\n",
       "        [100,  51,  12]]])"
      ]
     },
     "execution_count": 42,
     "metadata": {},
     "output_type": "execute_result"
    },
    {
     "data": {
      "text/plain": [
       "array([[[  4,   2,   6],\n",
       "        [ 11,  51,  35]],\n",
       "\n",
       "       [[ 74,   8,   9],\n",
       "        [100,  15,  12]]])"
      ]
     },
     "execution_count": 42,
     "metadata": {},
     "output_type": "execute_result"
    },
    {
     "data": {
      "text/plain": [
       "array([[[  2,  11,  35],\n",
       "        [  4,   6,  51]],\n",
       "\n",
       "       [[  8,   9,  74],\n",
       "        [ 12,  15, 100]]])"
      ]
     },
     "execution_count": 42,
     "metadata": {},
     "output_type": "execute_result"
    }
   ],
   "source": [
    "array_5 = np.array([[[11,2,35],[4,51,6]],[[74,8,9],[100,15,12]]])\n",
    "array_5\n",
    "# Sorting the elements in ascending order along axis=0(representing the outermost layer of the tensor), the matrices\n",
    "np.sort(array_5, axis=0)\n",
    "\n",
    "# Sorting the elements in ascending order with respect to axis=1 which represents the rows of each matrix in the tensor\n",
    "np.sort(array_5, axis=1)\n",
    "\n",
    "# Sorting the elements in ascending order with respect to axis=2 which represents the columns of each matrix in the tensor\n",
    "np.sort(array_5, axis=2)"
   ]
  },
  {
   "cell_type": "markdown",
   "id": "c18cb178-06b6-43d2-9079-9e6b047a4006",
   "metadata": {},
   "source": [
    "- Splitting an array into multiple arrays"
   ]
  },
  {
   "cell_type": "code",
   "execution_count": 43,
   "id": "7144e5c6-0979-40d4-9108-8b6db06402ea",
   "metadata": {},
   "outputs": [
    {
     "data": {
      "text/plain": [
       "array([[[ 11,   2,  35],\n",
       "        [  4,  51,   6]],\n",
       "\n",
       "       [[ 74,   8,   9],\n",
       "        [100,  15,  12]]])"
      ]
     },
     "execution_count": 43,
     "metadata": {},
     "output_type": "execute_result"
    },
    {
     "data": {
      "text/plain": [
       "[array([[[11,  2, 35],\n",
       "         [ 4, 51,  6]]]),\n",
       " array([[[ 74,   8,   9],\n",
       "         [100,  15,  12]]])]"
      ]
     },
     "execution_count": 43,
     "metadata": {},
     "output_type": "execute_result"
    },
    {
     "data": {
      "text/plain": [
       "[array([[[ 11],\n",
       "         [  4]],\n",
       " \n",
       "        [[ 74],\n",
       "         [100]]]),\n",
       " array([[[ 2],\n",
       "         [51]],\n",
       " \n",
       "        [[ 8],\n",
       "         [15]]]),\n",
       " array([[[35],\n",
       "         [ 6]],\n",
       " \n",
       "        [[ 9],\n",
       "         [12]]])]"
      ]
     },
     "execution_count": 43,
     "metadata": {},
     "output_type": "execute_result"
    }
   ],
   "source": [
    "array_5\n",
    "np.split(array_5, 2, axis=0)\n",
    "np.split(array_5, 3, axis=2)"
   ]
  },
  {
   "cell_type": "markdown",
   "id": "ace83667-512a-4602-a7bf-febd0ed88d05",
   "metadata": {},
   "source": [
    "### Building special np.arrays"
   ]
  },
  {
   "cell_type": "markdown",
   "id": "31393073-d24a-43b8-8107-e2cf5b37414c",
   "metadata": {},
   "source": [
    "- Building the Identity matrix"
   ]
  },
  {
   "cell_type": "code",
   "execution_count": 44,
   "id": "23d1a4a8-50c2-4c6b-b94c-61e9feaef1ae",
   "metadata": {},
   "outputs": [
    {
     "data": {
      "text/plain": [
       "array([[1., 0., 0., 0.],\n",
       "       [0., 1., 0., 0.],\n",
       "       [0., 0., 1., 0.],\n",
       "       [0., 0., 0., 1.]])"
      ]
     },
     "execution_count": 44,
     "metadata": {},
     "output_type": "execute_result"
    }
   ],
   "source": [
    "np.identity(4)"
   ]
  },
  {
   "cell_type": "markdown",
   "id": "9e5e7e05-ea67-44f0-b1f9-1fe84c939d9a",
   "metadata": {},
   "source": [
    "- Building all 1s array"
   ]
  },
  {
   "cell_type": "code",
   "execution_count": 45,
   "id": "2e1d7d58-b0c5-48a2-a33c-1f7341011112",
   "metadata": {},
   "outputs": [
    {
     "data": {
      "text/plain": [
       "array([1., 1., 1.])"
      ]
     },
     "execution_count": 45,
     "metadata": {},
     "output_type": "execute_result"
    }
   ],
   "source": [
    "np.ones(shape=3)"
   ]
  },
  {
   "cell_type": "code",
   "execution_count": 46,
   "id": "dd2c06f0-4d70-4dda-95b0-817ca2a24f19",
   "metadata": {},
   "outputs": [
    {
     "data": {
      "text/plain": [
       "array([[1., 1., 1.],\n",
       "       [1., 1., 1.],\n",
       "       [1., 1., 1.]])"
      ]
     },
     "execution_count": 46,
     "metadata": {},
     "output_type": "execute_result"
    }
   ],
   "source": [
    "np.ones(shape=(3,3))"
   ]
  },
  {
   "cell_type": "markdown",
   "id": "f08260c9-3b75-4fcd-b87e-f4a2bf74cd64",
   "metadata": {},
   "source": [
    "- Building all 0s array"
   ]
  },
  {
   "cell_type": "code",
   "execution_count": 47,
   "id": "576bf4f3-8e6f-417f-bdfc-60275c66ee82",
   "metadata": {},
   "outputs": [
    {
     "data": {
      "text/plain": [
       "array([0., 0., 0., 0., 0.])"
      ]
     },
     "execution_count": 47,
     "metadata": {},
     "output_type": "execute_result"
    }
   ],
   "source": [
    "np.zeros(5)"
   ]
  },
  {
   "cell_type": "code",
   "execution_count": 48,
   "id": "7629c3b0-5ebe-4c96-a469-d427fc79c492",
   "metadata": {},
   "outputs": [
    {
     "data": {
      "text/plain": [
       "array([[0., 0., 0.],\n",
       "       [0., 0., 0.],\n",
       "       [0., 0., 0.]])"
      ]
     },
     "execution_count": 48,
     "metadata": {},
     "output_type": "execute_result"
    }
   ],
   "source": [
    "np.zeros((3,3))"
   ]
  },
  {
   "cell_type": "code",
   "execution_count": 49,
   "id": "aecb33e3-1de5-47e8-8690-8fcaf85e3140",
   "metadata": {},
   "outputs": [
    {
     "data": {
      "text/plain": [
       "array([[[0., 0., 0.],\n",
       "        [0., 0., 0.]],\n",
       "\n",
       "       [[0., 0., 0.],\n",
       "        [0., 0., 0.]],\n",
       "\n",
       "       [[0., 0., 0.],\n",
       "        [0., 0., 0.]]])"
      ]
     },
     "execution_count": 49,
     "metadata": {},
     "output_type": "execute_result"
    },
    {
     "data": {
      "text/plain": [
       "dtype('float64')"
      ]
     },
     "execution_count": 49,
     "metadata": {},
     "output_type": "execute_result"
    },
    {
     "data": {
      "text/plain": [
       "dtype('int32')"
      ]
     },
     "execution_count": 49,
     "metadata": {},
     "output_type": "execute_result"
    }
   ],
   "source": [
    "np.zeros((3,2,3))\n",
    "np.zeros((3,2,3)).dtype\n",
    "np.zeros((3,2,3)).astype('int32').dtype"
   ]
  },
  {
   "cell_type": "markdown",
   "id": "89eb710e-63dc-4342-8b53-441b662c172f",
   "metadata": {},
   "source": [
    "- Populating an array with a specific number"
   ]
  },
  {
   "cell_type": "code",
   "execution_count": 50,
   "id": "52a6a771-8743-49a4-887d-0a6e8e753a39",
   "metadata": {},
   "outputs": [
    {
     "data": {
      "text/plain": [
       "array([[5, 5],\n",
       "       [5, 5],\n",
       "       [5, 5]], dtype=int64)"
      ]
     },
     "execution_count": 50,
     "metadata": {},
     "output_type": "execute_result"
    }
   ],
   "source": [
    "np.full((3,2), 5, dtype='int64')"
   ]
  },
  {
   "cell_type": "markdown",
   "id": "b4481d05-8be0-4691-9f4a-7e936bc656fe",
   "metadata": {},
   "source": [
    "- Building a specific number array using the shape from another created array"
   ]
  },
  {
   "cell_type": "code",
   "execution_count": 51,
   "id": "2c795fd9-dffa-4990-b07d-2439084983ee",
   "metadata": {},
   "outputs": [],
   "source": [
    "# We will build an array with the same shape as of array_3 we built above, and populate all its elements with -1"
   ]
  },
  {
   "cell_type": "code",
   "execution_count": 52,
   "id": "b0148749-07aa-4b20-9c82-b84d96854950",
   "metadata": {},
   "outputs": [
    {
     "data": {
      "text/plain": [
       "array([[[-1, -1, -1],\n",
       "        [-1, -1, -1]],\n",
       "\n",
       "       [[-1, -1, -1],\n",
       "        [-1, -1, -1]]])"
      ]
     },
     "execution_count": 52,
     "metadata": {},
     "output_type": "execute_result"
    }
   ],
   "source": [
    "np.full_like(array_3, -1)"
   ]
  },
  {
   "cell_type": "markdown",
   "id": "11951260-a087-4039-8215-90e394f867b6",
   "metadata": {},
   "source": [
    "- Building a 1D array on a specific range"
   ]
  },
  {
   "cell_type": "code",
   "execution_count": 53,
   "id": "74aec835-e153-4d94-90b1-5da497fedcf0",
   "metadata": {},
   "outputs": [
    {
     "data": {
      "text/plain": [
       "array([0, 1, 2, 3, 4, 5, 6, 7, 8, 9])"
      ]
     },
     "execution_count": 53,
     "metadata": {},
     "output_type": "execute_result"
    },
    {
     "data": {
      "text/plain": [
       "array([-1.  , -0.75, -0.5 , -0.25,  0.  ,  0.25,  0.5 ,  0.75])"
      ]
     },
     "execution_count": 53,
     "metadata": {},
     "output_type": "execute_result"
    },
    {
     "data": {
      "text/plain": [
       "array([[-1.  , -0.75],\n",
       "       [-0.5 , -0.25],\n",
       "       [ 0.  ,  0.25],\n",
       "       [ 0.5 ,  0.75]])"
      ]
     },
     "execution_count": 53,
     "metadata": {},
     "output_type": "execute_result"
    }
   ],
   "source": [
    "np.arange(10)\n",
    "x = np.arange(start=-1, stop=1, step=0.25)\n",
    "x\n",
    "x.reshape(4,2)"
   ]
  },
  {
   "cell_type": "markdown",
   "id": "fb4182ad-f4cc-45c7-bc42-c15987ab56af",
   "metadata": {},
   "source": [
    "### Randomly generated arrays"
   ]
  },
  {
   "cell_type": "markdown",
   "id": "935c0ee2-dfda-4133-9b7a-a9b83ba4d79b",
   "metadata": {},
   "source": [
    "- Setting seed for code reproducibility "
   ]
  },
  {
   "cell_type": "code",
   "execution_count": 54,
   "id": "a51feb2a-d62d-4713-8aab-0869abff0cf2",
   "metadata": {},
   "outputs": [
    {
     "data": {
      "text/plain": [
       "array([76, 83, 12, 59,  8], dtype=int64)"
      ]
     },
     "execution_count": 54,
     "metadata": {},
     "output_type": "execute_result"
    },
    {
     "data": {
      "text/plain": [
       "array([76, 83, 12, 59,  8], dtype=int64)"
      ]
     },
     "execution_count": 54,
     "metadata": {},
     "output_type": "execute_result"
    },
    {
     "data": {
      "text/plain": [
       "array([76, 83, 12, 59,  8], dtype=int64)"
      ]
     },
     "execution_count": 54,
     "metadata": {},
     "output_type": "execute_result"
    }
   ],
   "source": [
    "# Setting a seed ensures that the randomly generated numbers are the same each time, which is essential for debugging or replicating results\n",
    "rng1 = np.random.default_rng(seed=100)\n",
    "rng1.integers(low=0, high=100, size = 5)\n",
    "\n",
    "rng2 = np.random.default_rng(seed=100)\n",
    "rng2.integers(low=0, high=100, size = 5)\n",
    "\n",
    "rng3 = np.random.default_rng(seed=100)\n",
    "rng3.integers(low=0, high=100, size = 5)"
   ]
  },
  {
   "cell_type": "markdown",
   "id": "4434eb53-a00a-43d8-8899-9e504182442b",
   "metadata": {},
   "source": [
    "- Building a random integer array"
   ]
  },
  {
   "cell_type": "markdown",
   "id": "5ce2041e-afd5-45e7-a462-2518c23dcfbf",
   "metadata": {},
   "source": [
    "By default, the lower bound is inclusive and the upper bound is exclusive. If you need both ends of the range inclusive you have to set the argument   \n",
    "'endpoint' to True"
   ]
  },
  {
   "cell_type": "code",
   "execution_count": 55,
   "id": "aff1fa10-2068-4407-8dcb-69b8abc0f866",
   "metadata": {},
   "outputs": [
    {
     "data": {
      "text/plain": [
       "array([[-1,  1,  0, -1,  1, -1, -1, -1,  0, -1],\n",
       "       [ 0,  1,  0,  1,  0, -1,  1,  1,  1,  1],\n",
       "       [-1,  0, -1, -1, -1,  1,  1, -1,  0,  1],\n",
       "       [-1,  0,  0,  1,  1, -1,  1,  1, -1,  0],\n",
       "       [ 1, -1, -1, -1, -1,  0, -1,  0,  0, -1],\n",
       "       [ 0, -1, -1,  0, -1,  1, -1,  1, -1,  0],\n",
       "       [ 0,  1,  0,  1,  0, -1, -1,  1, -1,  1],\n",
       "       [ 0, -1,  0,  1,  0,  1,  1, -1,  0,  0],\n",
       "       [ 0, -1,  0,  0,  1, -1,  0,  1,  1, -1],\n",
       "       [ 1, -1,  0, -1,  1, -1,  0,  0,  1,  0]], dtype=int64)"
      ]
     },
     "execution_count": 55,
     "metadata": {},
     "output_type": "execute_result"
    }
   ],
   "source": [
    "rng = np.random.default_rng(seed=123)\n",
    "rng.integers(low=-1, high=1, size = (10,10), endpoint=True)"
   ]
  },
  {
   "cell_type": "markdown",
   "id": "da669a9e-8420-4bcd-933f-0c6d8051d45a",
   "metadata": {},
   "source": [
    "- Populating an array with random floats in the range [0, 1) following the “continuous uniform” distribution "
   ]
  },
  {
   "cell_type": "code",
   "execution_count": 56,
   "id": "87911328-1aea-49cd-b1b8-de49a12488ff",
   "metadata": {},
   "outputs": [
    {
     "data": {
      "text/plain": [
       "array([0.68235186, 0.05382102, 0.22035987, 0.18437181, 0.1759059 ])"
      ]
     },
     "execution_count": 56,
     "metadata": {},
     "output_type": "execute_result"
    }
   ],
   "source": [
    "rng = np.random.default_rng(seed=123)\n",
    "rng.random(size=(5,))"
   ]
  },
  {
   "cell_type": "markdown",
   "id": "e588fb6f-0a9a-439d-8bd2-d386688efe4f",
   "metadata": {},
   "source": [
    "- Populating an array with random elements drawn from the standard normal distribution (z-distribution, mean=0 and sd=1)"
   ]
  },
  {
   "cell_type": "code",
   "execution_count": 57,
   "id": "b170594f-63eb-4739-93a7-ece33ff7f9e5",
   "metadata": {},
   "outputs": [
    {
     "data": {
      "text/plain": [
       "array([-0.98912135, -0.36778665,  1.28792526,  0.19397442,  0.9202309 ,\n",
       "        0.57710379, -0.63646365,  0.54195222, -0.31659545, -0.32238912,\n",
       "        0.09716732, -1.52593041,  1.1921661 , -0.67108968,  1.00026942,\n",
       "        0.13632112,  1.53203308, -0.65996941, -0.31179486,  0.33776913,\n",
       "       -2.2074711 ,  0.82792144,  1.54163039,  1.12680679,  0.75476964,\n",
       "       -0.14597789,  1.28190223,  1.07403062,  0.39262084,  0.00511431,\n",
       "       -0.36176687, -1.2302322 ,  1.22622929, -2.17204389, -0.37014735,\n",
       "        0.16438007,  0.85988118,  1.76166124,  0.99332378, -0.29152143,\n",
       "        0.72812756, -1.26160032,  1.42993853, -0.15647532, -0.67375915,\n",
       "       -0.6390601 , -0.06136133, -0.39278492,  2.28990995, -0.71818115,\n",
       "        0.03260774,  0.0280499 ,  0.02827212,  0.05534586, -0.48156286,\n",
       "       -0.5834075 , -0.8621605 , -1.48817461,  0.21630683,  0.98437635,\n",
       "       -0.54308414, -0.55861504, -0.31648283, -0.46063974, -1.43626975,\n",
       "        1.36510803,  0.43899989, -0.71169503,  0.29717176, -0.43845727,\n",
       "       -0.21163743,  0.36396383,  0.95296449,  1.51952413,  1.70390945,\n",
       "       -0.24885871, -0.49974859,  0.0995975 ,  0.12834321, -0.73422189,\n",
       "       -0.62047529,  0.81327372,  1.64180101, -0.22650085, -0.64796521,\n",
       "       -0.28337121, -0.99513136, -0.27287177,  0.42244414, -0.08134296,\n",
       "        1.2345776 ,  0.15088803,  0.48111953, -0.14875753,  1.31566571,\n",
       "       -1.2223456 , -0.30359134, -1.17368868,  0.82627351,  0.85032229])"
      ]
     },
     "execution_count": 57,
     "metadata": {},
     "output_type": "execute_result"
    }
   ],
   "source": [
    "rng = np.random.default_rng(seed=123)\n",
    "rng.standard_normal(size=100)"
   ]
  },
  {
   "cell_type": "markdown",
   "id": "2150f059-4667-42b5-b37f-b169fd26bcb9",
   "metadata": {},
   "source": [
    "- Populate an array with random elements generated from the normal distribution"
   ]
  },
  {
   "cell_type": "code",
   "execution_count": 58,
   "id": "7c26367d-e49e-4e20-953b-750f95a82df2",
   "metadata": {},
   "outputs": [
    {
     "data": {
      "text/plain": [
       "array([[ 90.1087865 ,  96.32213349, 112.87925261, 101.93974419],\n",
       "       [109.202309  , 105.77103791,  93.63536354, 105.4195222 ],\n",
       "       [ 96.83404549,  96.77610884, 100.97167319,  84.74069593],\n",
       "       [111.92166104,  93.28910325, 110.0026942 , 101.36321124]])"
      ]
     },
     "execution_count": 58,
     "metadata": {},
     "output_type": "execute_result"
    }
   ],
   "source": [
    "# The 'loc' argument stands for location and represents the mean of the distribution, while the 'scale' argument represents the standard deviation\n",
    "rng = np.random.default_rng(seed=123)\n",
    "rng.normal(loc=100, scale=10, size=(4,4))"
   ]
  },
  {
   "cell_type": "markdown",
   "id": "95baaf56-e55c-42e0-8bd2-52494b24301d",
   "metadata": {},
   "source": [
    "- Populate an array with values drawn from the Poisson distribution having a specific rate (average value of  occurrences)"
   ]
  },
  {
   "cell_type": "code",
   "execution_count": 59,
   "id": "acbca083-7b22-4745-bae2-c20ffb974ef4",
   "metadata": {},
   "outputs": [
    {
     "data": {
      "text/plain": [
       "array([[3, 7, 8, 4, 9],\n",
       "       [5, 4, 3, 1, 7],\n",
       "       [4, 8, 5, 6, 6],\n",
       "       [4, 7, 4, 6, 5],\n",
       "       [4, 5, 2, 4, 4]], dtype=int64)"
      ]
     },
     "execution_count": 59,
     "metadata": {},
     "output_type": "execute_result"
    }
   ],
   "source": [
    "rng = np.random.default_rng(seed=123)\n",
    "x = rng.poisson(lam=5, size = (5,5))\n",
    "x"
   ]
  },
  {
   "cell_type": "markdown",
   "id": "da9dfa82-06c9-4c4e-aa46-38309b561501",
   "metadata": {},
   "source": [
    "- Populate an array with values drawn from the Uniform distribution"
   ]
  },
  {
   "cell_type": "code",
   "execution_count": 60,
   "id": "03301bff-3289-426b-805c-f288f8feab59",
   "metadata": {},
   "outputs": [
    {
     "data": {
      "text/plain": [
       "array([[0.68235186, 0.05382102, 0.22035987, 0.18437181, 0.1759059 ],\n",
       "       [0.81209451, 0.923345  , 0.2765744 , 0.81975456, 0.88989269],\n",
       "       [0.51297046, 0.2449646 , 0.8242416 , 0.21376296, 0.74146705],\n",
       "       [0.6299402 , 0.92740726, 0.23190819, 0.79912513, 0.51816504],\n",
       "       [0.23155562, 0.16590399, 0.49778897, 0.58272464, 0.18433799],\n",
       "       [0.01489492, 0.47113323, 0.72824333, 0.91860049, 0.62553401],\n",
       "       [0.91712257, 0.86469025, 0.21814287, 0.86612743, 0.73075194],\n",
       "       [0.27786529, 0.79704355, 0.86522171, 0.2994379 , 0.52704208],\n",
       "       [0.07148681, 0.58323841, 0.2379064 , 0.76496365, 0.17363164],\n",
       "       [0.31274226, 0.01447448, 0.03255192, 0.49670184, 0.46831253],\n",
       "       [0.12769032, 0.2575625 , 0.00318111, 0.38106775, 0.57587308],\n",
       "       [0.42729877, 0.83510235, 0.61649125, 0.26608391, 0.81102211],\n",
       "       [0.49948675, 0.75881032, 0.56608909, 0.43744036, 0.39615444],\n",
       "       [0.02223529, 0.46935079, 0.6235584 , 0.94611342, 0.43532608],\n",
       "       [0.4856414 , 0.51911514, 0.40859098, 0.57879572, 0.07035067],\n",
       "       [0.48838383, 0.61014483, 0.74387911, 0.42983032, 0.30280213],\n",
       "       [0.00589003, 0.75647897, 0.07757597, 0.48998804, 0.3043611 ],\n",
       "       [0.84082216, 0.95047586, 0.31887458, 0.89776829, 0.33752905],\n",
       "       [0.81211211, 0.7988436 , 0.65528518, 0.22870345, 0.13767446],\n",
       "       [0.42437114, 0.15153875, 0.87327295, 0.17912676, 0.03029466]])"
      ]
     },
     "execution_count": 60,
     "metadata": {},
     "output_type": "execute_result"
    }
   ],
   "source": [
    "rng = np.random.default_rng(seed=123)\n",
    "x = rng.uniform(0,1,(20,5))\n",
    "x"
   ]
  },
  {
   "cell_type": "markdown",
   "id": "f5c18a7f-9f36-42d1-9848-df787f918dba",
   "metadata": {},
   "source": [
    "- Random sampling from an array"
   ]
  },
  {
   "cell_type": "code",
   "execution_count": 61,
   "id": "c30d853f-b48e-4802-aae5-73b0db9190dc",
   "metadata": {},
   "outputs": [
    {
     "data": {
      "text/plain": [
       "array([[0.68235186, 0.05382102, 0.22035987, 0.18437181, 0.1759059 ],\n",
       "       [0.81209451, 0.923345  , 0.2765744 , 0.81975456, 0.88989269],\n",
       "       [0.51297046, 0.2449646 , 0.8242416 , 0.21376296, 0.74146705],\n",
       "       [0.6299402 , 0.92740726, 0.23190819, 0.79912513, 0.51816504],\n",
       "       [0.23155562, 0.16590399, 0.49778897, 0.58272464, 0.18433799],\n",
       "       [0.01489492, 0.47113323, 0.72824333, 0.91860049, 0.62553401],\n",
       "       [0.91712257, 0.86469025, 0.21814287, 0.86612743, 0.73075194],\n",
       "       [0.27786529, 0.79704355, 0.86522171, 0.2994379 , 0.52704208],\n",
       "       [0.07148681, 0.58323841, 0.2379064 , 0.76496365, 0.17363164],\n",
       "       [0.31274226, 0.01447448, 0.03255192, 0.49670184, 0.46831253],\n",
       "       [0.12769032, 0.2575625 , 0.00318111, 0.38106775, 0.57587308],\n",
       "       [0.42729877, 0.83510235, 0.61649125, 0.26608391, 0.81102211],\n",
       "       [0.49948675, 0.75881032, 0.56608909, 0.43744036, 0.39615444],\n",
       "       [0.02223529, 0.46935079, 0.6235584 , 0.94611342, 0.43532608],\n",
       "       [0.4856414 , 0.51911514, 0.40859098, 0.57879572, 0.07035067],\n",
       "       [0.48838383, 0.61014483, 0.74387911, 0.42983032, 0.30280213],\n",
       "       [0.00589003, 0.75647897, 0.07757597, 0.48998804, 0.3043611 ],\n",
       "       [0.84082216, 0.95047586, 0.31887458, 0.89776829, 0.33752905],\n",
       "       [0.81211211, 0.7988436 , 0.65528518, 0.22870345, 0.13767446],\n",
       "       [0.42437114, 0.15153875, 0.87327295, 0.17912676, 0.03029466]])"
      ]
     },
     "execution_count": 61,
     "metadata": {},
     "output_type": "execute_result"
    },
    {
     "data": {
      "text/plain": [
       "array([[0.68235186, 0.05382102, 0.22035987, 0.18437181, 0.1759059 ]])"
      ]
     },
     "execution_count": 61,
     "metadata": {},
     "output_type": "execute_result"
    },
    {
     "data": {
      "text/plain": [
       "array([[0.18437181],\n",
       "       [0.81975456],\n",
       "       [0.21376296],\n",
       "       [0.79912513],\n",
       "       [0.58272464],\n",
       "       [0.91860049],\n",
       "       [0.86612743],\n",
       "       [0.2994379 ],\n",
       "       [0.76496365],\n",
       "       [0.49670184],\n",
       "       [0.38106775],\n",
       "       [0.26608391],\n",
       "       [0.43744036],\n",
       "       [0.94611342],\n",
       "       [0.57879572],\n",
       "       [0.42983032],\n",
       "       [0.48998804],\n",
       "       [0.89776829],\n",
       "       [0.22870345],\n",
       "       [0.17912676]])"
      ]
     },
     "execution_count": 61,
     "metadata": {},
     "output_type": "execute_result"
    },
    {
     "data": {
      "text/plain": [
       "array([0.81209451, 0.81211211, 0.26608391])"
      ]
     },
     "execution_count": 61,
     "metadata": {},
     "output_type": "execute_result"
    }
   ],
   "source": [
    "rng = np.random.default_rng(seed=123)\n",
    "x\n",
    "\n",
    "# Sampling a random row from the array by choosing axis=0\n",
    "rng.choice(x, size=1, replace=False, axis=0)\n",
    "\n",
    "# Sampling a random column from the array by choosing axis=1\n",
    "rng.choice(x, size=1, replace=False, axis=1)\n",
    "\n",
    "# For sampling individual elements from the array we first need to flatten the array to 1D and then sample the number of elements we intend to\n",
    "rng.choice(x.flatten(), size=3, replace=False)"
   ]
  },
  {
   "cell_type": "markdown",
   "id": "4b809313-4690-41eb-8414-b9fc3f8847a2",
   "metadata": {},
   "source": [
    "You can find more information about Random Generators in NumPy's official documentation here: https://numpy.org/doc/stable/reference/random/generator.html"
   ]
  },
  {
   "cell_type": "markdown",
   "id": "c1d801de-3cc6-4081-8907-1e4690755ee7",
   "metadata": {},
   "source": [
    "### Mathematical Operations on arrays"
   ]
  },
  {
   "cell_type": "markdown",
   "id": "9c1dcd02-1163-4d3c-9413-0b5d4370ec3c",
   "metadata": {},
   "source": [
    "- Addition / Subtraction / Multiplication / Division between arrays"
   ]
  },
  {
   "cell_type": "markdown",
   "id": "d8b27d36-c2e0-4608-8d4e-b90336fba05c",
   "metadata": {},
   "source": [
    "<u>The operations are performed element-wise as long as the arrays have the same shape</u>"
   ]
  },
  {
   "cell_type": "code",
   "execution_count": 59,
   "id": "a5c81cd1-6ba8-4195-9d03-be151a555947",
   "metadata": {},
   "outputs": [
    {
     "data": {
      "text/plain": [
       "array([5, 7, 9])"
      ]
     },
     "execution_count": 59,
     "metadata": {},
     "output_type": "execute_result"
    },
    {
     "data": {
      "text/plain": [
       "array([-3, -3, -3])"
      ]
     },
     "execution_count": 59,
     "metadata": {},
     "output_type": "execute_result"
    },
    {
     "data": {
      "text/plain": [
       "array([ 4, 10, 18])"
      ]
     },
     "execution_count": 59,
     "metadata": {},
     "output_type": "execute_result"
    },
    {
     "data": {
      "text/plain": [
       "array([0.25, 0.4 , 0.5 ])"
      ]
     },
     "execution_count": 59,
     "metadata": {},
     "output_type": "execute_result"
    }
   ],
   "source": [
    "a1 = np.array([1,2,3])\n",
    "a2 = np.array([4,5,6])\n",
    "a1+a2\n",
    "a1-a2\n",
    "a1*a2\n",
    "a1/a2"
   ]
  },
  {
   "cell_type": "markdown",
   "id": "c1270300-839c-49c9-b64c-bd5757e18337",
   "metadata": {},
   "source": [
    "For the operations you can alternatively use the following code"
   ]
  },
  {
   "cell_type": "code",
   "execution_count": 60,
   "id": "e5298bbb-a73a-4e75-bea8-2b5b9b63e98e",
   "metadata": {},
   "outputs": [
    {
     "data": {
      "text/plain": [
       "array([5, 7, 9])"
      ]
     },
     "execution_count": 60,
     "metadata": {},
     "output_type": "execute_result"
    },
    {
     "data": {
      "text/plain": [
       "array([-3, -3, -3])"
      ]
     },
     "execution_count": 60,
     "metadata": {},
     "output_type": "execute_result"
    },
    {
     "data": {
      "text/plain": [
       "array([ 4, 10, 18])"
      ]
     },
     "execution_count": 60,
     "metadata": {},
     "output_type": "execute_result"
    },
    {
     "data": {
      "text/plain": [
       "array([0.25, 0.4 , 0.5 ])"
      ]
     },
     "execution_count": 60,
     "metadata": {},
     "output_type": "execute_result"
    }
   ],
   "source": [
    "np.add(a1,a2)\n",
    "np.subtract(a1,a2)\n",
    "np.multiply(a1,a2)\n",
    "np.divide(a1,a2)"
   ]
  },
  {
   "cell_type": "markdown",
   "id": "2e04c3c7-413f-44ba-b23b-e0e21a819be1",
   "metadata": {},
   "source": [
    "- Addition / Subtraction / Multiplication / Division of arrays with a scalar"
   ]
  },
  {
   "cell_type": "markdown",
   "id": "cdb024c6-15e2-4019-be07-eaad09e009e2",
   "metadata": {},
   "source": [
    "As expected, the division of an array with 0 cannot be performed"
   ]
  },
  {
   "cell_type": "code",
   "execution_count": 64,
   "id": "def37d28-cb36-4b31-a567-80a22d5b1cba",
   "metadata": {},
   "outputs": [
    {
     "data": {
      "text/plain": [
       "array([1, 2, 3])"
      ]
     },
     "execution_count": 64,
     "metadata": {},
     "output_type": "execute_result"
    },
    {
     "data": {
      "text/plain": [
       "array([5, 6, 7])"
      ]
     },
     "execution_count": 64,
     "metadata": {},
     "output_type": "execute_result"
    },
    {
     "data": {
      "text/plain": [
       "array([-6, -5, -4])"
      ]
     },
     "execution_count": 64,
     "metadata": {},
     "output_type": "execute_result"
    },
    {
     "data": {
      "text/plain": [
       "array([1.5, 3. , 4.5])"
      ]
     },
     "execution_count": 64,
     "metadata": {},
     "output_type": "execute_result"
    },
    {
     "data": {
      "text/plain": [
       "array([0.25, 0.5 , 0.75])"
      ]
     },
     "execution_count": 64,
     "metadata": {},
     "output_type": "execute_result"
    }
   ],
   "source": [
    "a1\n",
    "a1+4\n",
    "a1-7\n",
    "a1*1.5\n",
    "a1/4"
   ]
  },
  {
   "cell_type": "markdown",
   "id": "23f83e6c-dbe8-454c-a08e-2e29a5dde186",
   "metadata": {},
   "source": [
    "- Raising an array to a power"
   ]
  },
  {
   "cell_type": "code",
   "execution_count": 65,
   "id": "88c6ea04-a249-47cb-9ca4-c5ac201aea91",
   "metadata": {},
   "outputs": [
    {
     "data": {
      "text/plain": [
       "array([1, 2, 3])"
      ]
     },
     "execution_count": 65,
     "metadata": {},
     "output_type": "execute_result"
    },
    {
     "data": {
      "text/plain": [
       "array([ 1,  8, 27], dtype=int32)"
      ]
     },
     "execution_count": 65,
     "metadata": {},
     "output_type": "execute_result"
    }
   ],
   "source": [
    "a1\n",
    "np.power(a1,3)"
   ]
  },
  {
   "cell_type": "markdown",
   "id": "65f50860-d7a1-4630-9cfc-2f0c8ed23362",
   "metadata": {},
   "source": [
    "- First array elements raised to powers from second array, element-wise"
   ]
  },
  {
   "cell_type": "code",
   "execution_count": 66,
   "id": "451d7ade-1aa0-4d92-9b3a-c2e0e0ea805d",
   "metadata": {},
   "outputs": [
    {
     "data": {
      "text/plain": [
       "array([1, 2, 3])"
      ]
     },
     "execution_count": 66,
     "metadata": {},
     "output_type": "execute_result"
    },
    {
     "data": {
      "text/plain": [
       "array([4, 5, 6])"
      ]
     },
     "execution_count": 66,
     "metadata": {},
     "output_type": "execute_result"
    },
    {
     "data": {
      "text/plain": [
       "array([  1,  32, 729])"
      ]
     },
     "execution_count": 66,
     "metadata": {},
     "output_type": "execute_result"
    }
   ],
   "source": [
    "a1\n",
    "a2\n",
    "np.power(a1,a2)"
   ]
  },
  {
   "cell_type": "markdown",
   "id": "e66775eb-b2c9-4848-9dd6-9e6a7b22cd18",
   "metadata": {},
   "source": [
    "- Modulo. Element-wise the remainder of division with a scalar or the remainder of the division between 2 arrays"
   ]
  },
  {
   "cell_type": "code",
   "execution_count": 67,
   "id": "27435521-77d4-4d5f-b231-72a793802e00",
   "metadata": {},
   "outputs": [
    {
     "data": {
      "text/plain": [
       "array([1, 2, 3])"
      ]
     },
     "execution_count": 67,
     "metadata": {},
     "output_type": "execute_result"
    },
    {
     "data": {
      "text/plain": [
       "array([4, 5, 6])"
      ]
     },
     "execution_count": 67,
     "metadata": {},
     "output_type": "execute_result"
    },
    {
     "data": {
      "text/plain": [
       "array([1, 0, 1], dtype=int32)"
      ]
     },
     "execution_count": 67,
     "metadata": {},
     "output_type": "execute_result"
    },
    {
     "data": {
      "text/plain": [
       "array([1, 2, 3])"
      ]
     },
     "execution_count": 67,
     "metadata": {},
     "output_type": "execute_result"
    }
   ],
   "source": [
    "a1\n",
    "a2\n",
    "np.mod(a1,2)\n",
    "np.mod(a1,a2)"
   ]
  },
  {
   "cell_type": "markdown",
   "id": "1ecbc0a7-a16a-414a-a95d-d2358ffc5c6f",
   "metadata": {},
   "source": [
    "- Exponential of all elements in the array"
   ]
  },
  {
   "cell_type": "code",
   "execution_count": 68,
   "id": "90e400cf-54bc-4a59-bb2d-bc074cfd7016",
   "metadata": {},
   "outputs": [
    {
     "data": {
      "text/plain": [
       "array([1, 2, 3])"
      ]
     },
     "execution_count": 68,
     "metadata": {},
     "output_type": "execute_result"
    },
    {
     "data": {
      "text/plain": [
       "array([ 2.71828183,  7.3890561 , 20.08553692])"
      ]
     },
     "execution_count": 68,
     "metadata": {},
     "output_type": "execute_result"
    }
   ],
   "source": [
    "a1\n",
    "np.exp(a1)"
   ]
  },
  {
   "cell_type": "markdown",
   "id": "12a6e0ed-4208-44df-affa-c84e88e0cb3c",
   "metadata": {},
   "source": [
    "- Natural logarithm of all elements in the array"
   ]
  },
  {
   "cell_type": "code",
   "execution_count": 69,
   "id": "92d168d7-1443-4140-9dab-fe0bf49cef26",
   "metadata": {},
   "outputs": [
    {
     "data": {
      "text/plain": [
       "array([1, 2, 3])"
      ]
     },
     "execution_count": 69,
     "metadata": {},
     "output_type": "execute_result"
    },
    {
     "data": {
      "text/plain": [
       "array([0.        , 0.69314718, 1.09861229])"
      ]
     },
     "execution_count": 69,
     "metadata": {},
     "output_type": "execute_result"
    }
   ],
   "source": [
    "a1\n",
    "np.log(a1)"
   ]
  },
  {
   "cell_type": "markdown",
   "id": "1957bb7e-ace9-4730-8d68-c23a594f2618",
   "metadata": {},
   "source": [
    "- Reciprocal element-wise of an array"
   ]
  },
  {
   "cell_type": "markdown",
   "id": "5bee135c-a032-43d3-aaa7-0cc9f866754b",
   "metadata": {},
   "source": [
    "<u>*For the reciprocal function to work properly you have to turn the data type of the array to float*</u>"
   ]
  },
  {
   "cell_type": "code",
   "execution_count": 70,
   "id": "e54ae986-dc70-486a-8eac-f5963053bc98",
   "metadata": {},
   "outputs": [
    {
     "data": {
      "text/plain": [
       "array([1, 2, 3])"
      ]
     },
     "execution_count": 70,
     "metadata": {},
     "output_type": "execute_result"
    },
    {
     "data": {
      "text/plain": [
       "array([1, 0, 0])"
      ]
     },
     "execution_count": 70,
     "metadata": {},
     "output_type": "execute_result"
    },
    {
     "data": {
      "text/plain": [
       "array([1.        , 0.5       , 0.33333334], dtype=float32)"
      ]
     },
     "execution_count": 70,
     "metadata": {},
     "output_type": "execute_result"
    }
   ],
   "source": [
    "a1\n",
    "np.reciprocal(a1)\n",
    "np.reciprocal(a1.astype('float32'))"
   ]
  },
  {
   "cell_type": "markdown",
   "id": "18ee41a1-dc95-4179-b785-124cb5c955cf",
   "metadata": {},
   "source": [
    "### Mathematical Operations with Broadcasting"
   ]
  },
  {
   "cell_type": "markdown",
   "id": "dde45902-d780-4de0-8c87-c43dabcc1c0b",
   "metadata": {},
   "source": [
    "Earlier, we mentioned that vectorized arithmetic operations between arrays are possible only if the involved arrays have the same shape.   \n",
    "Broadcasting is the mechanism that makes mathematical operations between arrays of different shapes possible!   \n",
    "Broadcasting works by stretching the shape of the smaller array across the larger one to make the operation possible.   \n",
    "However, this only applies if the arrays are \"broadcastable\" meaning their shapes are compatible according to a specific rule.   \n",
    "The rule for broadcasting is that the dimensions must either be the same or one of the dimensions must be equal to 1.   \n",
    "This condition must be met for every dimension, starting from the rightmost dimension (right-to-left comparison).   \n",
    "One last but important note, is that the broadcasting operation is performed always row-wise, so in some cases we must reshape the involved   \n",
    "arrays accordingly."
   ]
  },
  {
   "cell_type": "code",
   "execution_count": 71,
   "id": "308e0568-f5e3-4217-b9df-2a34c097fe18",
   "metadata": {},
   "outputs": [
    {
     "data": {
      "text/plain": [
       "(2, 5)"
      ]
     },
     "execution_count": 71,
     "metadata": {},
     "output_type": "execute_result"
    },
    {
     "data": {
      "text/plain": [
       "(2, 1)"
      ]
     },
     "execution_count": 71,
     "metadata": {},
     "output_type": "execute_result"
    },
    {
     "data": {
      "text/plain": [
       "array([[ 1,  2,  3,  4,  5],\n",
       "       [ 6,  7,  8,  9, 10]])"
      ]
     },
     "execution_count": 71,
     "metadata": {},
     "output_type": "execute_result"
    },
    {
     "data": {
      "text/plain": [
       "array([[0],\n",
       "       [1]])"
      ]
     },
     "execution_count": 71,
     "metadata": {},
     "output_type": "execute_result"
    },
    {
     "data": {
      "text/plain": [
       "array([[ 1,  2,  3,  4,  5],\n",
       "       [ 7,  8,  9, 10, 11]])"
      ]
     },
     "execution_count": 71,
     "metadata": {},
     "output_type": "execute_result"
    }
   ],
   "source": [
    "ar1 = np.array([[1,2,3,4,5],[6,7,8,9,10]])\n",
    "ar2 = np.array([[0],[1]])\n",
    "ar1.shape\n",
    "ar2.shape\n",
    "ar1\n",
    "ar2\n",
    "ar1 + ar2"
   ]
  },
  {
   "cell_type": "code",
   "execution_count": 72,
   "id": "e545430b-2210-49d3-ab13-d91117afc381",
   "metadata": {},
   "outputs": [
    {
     "data": {
      "text/plain": [
       "(3, 3)"
      ]
     },
     "execution_count": 72,
     "metadata": {},
     "output_type": "execute_result"
    },
    {
     "data": {
      "text/plain": [
       "(1, 3)"
      ]
     },
     "execution_count": 72,
     "metadata": {},
     "output_type": "execute_result"
    },
    {
     "data": {
      "text/plain": [
       "array([[1, 2, 3],\n",
       "       [4, 5, 6],\n",
       "       [7, 8, 9]])"
      ]
     },
     "execution_count": 72,
     "metadata": {},
     "output_type": "execute_result"
    },
    {
     "data": {
      "text/plain": [
       "array([[1, 2, 3]])"
      ]
     },
     "execution_count": 72,
     "metadata": {},
     "output_type": "execute_result"
    },
    {
     "data": {
      "text/plain": [
       "array([[ 1,  4,  9],\n",
       "       [ 4, 10, 18],\n",
       "       [ 7, 16, 27]])"
      ]
     },
     "execution_count": 72,
     "metadata": {},
     "output_type": "execute_result"
    }
   ],
   "source": [
    "ar3 = np.array([[1,2,3],[4,5,6],[7,8,9]])\n",
    "ar4 = np.array([[1,2,3]])\n",
    "ar3.shape\n",
    "ar4.shape\n",
    "ar3\n",
    "ar4\n",
    "ar3 * ar4"
   ]
  },
  {
   "cell_type": "markdown",
   "id": "3a99daf4-aabb-4ca0-ab68-24e17059ccc4",
   "metadata": {},
   "source": [
    "You can find more information about element-wise functions on nd arrays in the official documentation here: https://numpy.org/doc/stable/reference/ufuncs.html"
   ]
  },
  {
   "cell_type": "markdown",
   "id": "44d94fbb-d238-44d2-b519-0c0bd3b4ceb5",
   "metadata": {},
   "source": [
    "### Creating Your Own Universal Functions"
   ]
  },
  {
   "cell_type": "markdown",
   "id": "44dca5eb-07de-4fc7-bce3-39db765ac5a2",
   "metadata": {},
   "source": [
    "There will be cases where the built-in functions NumPy provides, such as `np.exp()`, `np.tanh`, `np.log2` etc, will not cover the need you may have.   \n",
    "This is where custom ufuncs come into play.   \n",
    "You can create your own ufuncs using the `np.frompyfunc`.   "
   ]
  },
  {
   "cell_type": "code",
   "execution_count": 14,
   "id": "d808b0f9-6b9d-4ccb-bc38-d8c7b10d67f2",
   "metadata": {},
   "outputs": [
    {
     "data": {
      "text/plain": [
       "array([1341.502979622934, 373273.99528489, 250061.9038935455, ...,\n",
       "       2206.4529469680083, 474575.38320384716, 54888.5747162595],\n",
       "      dtype=object)"
      ]
     },
     "execution_count": 14,
     "metadata": {},
     "output_type": "execute_result"
    },
    {
     "name": "stdout",
     "output_type": "stream",
     "text": [
      "Computing time result: 21.284396171569824\n"
     ]
    }
   ],
   "source": [
    "def func(x,y):\n",
    "    return x**3 + np.sqrt(x*y) + np.log(x/y)\n",
    "\n",
    "custom_func = np.frompyfunc(func, 2, 1) # 2 for the number of input arguments and 1 the number of objects returned by func\n",
    "rng = np.random.default_rng(seed=123)\n",
    "a = rng.integers(low=10, high=100, size=10**7, endpoint=True)\n",
    "b = rng.uniform(low=1, high=10, size=10**7)\n",
    "\n",
    "import time\n",
    "start = time.time()\n",
    "custom_func(a,b)\n",
    "print(f\"Computing time result: {time.time() - start}\")"
   ]
  },
  {
   "cell_type": "markdown",
   "id": "460bdeac-6121-4745-b681-b3e0895049a2",
   "metadata": {},
   "source": [
    "Although `np.frompyfunc` creates a custom ufunc and it can handle any data type, the main drawback is that it is not as fast as native NumPy ufuncs.   \n",
    "For truly high-performance custom ufuncs, we should use the Numba library, which allows us to create custom ufuncs that match the speed of native NumPy functions.   \n",
    "**<u>Numba</u>** runs in parallel, across multiple CPU cores, providing a significant speedup.   \n",
    "Using the `@vectorize` decorator, Numba can compile a pure Python function into a ufunc that operates over NumPy arrays as fast as traditional built-in ufuncs written in C. More information on Numba can be found on the official documentation here: https://numba.readthedocs.io/en/stable/user/vectorize.html"
   ]
  },
  {
   "cell_type": "code",
   "execution_count": 19,
   "id": "2317d217-b7ea-4ac1-a723-3325cedba362",
   "metadata": {},
   "outputs": [
    {
     "data": {
      "text/plain": [
       "array([  1341.50297962, 373273.99528489, 250061.90389355, ...,\n",
       "         2206.45294697, 474575.38320385,  54888.57471626])"
      ]
     },
     "execution_count": 19,
     "metadata": {},
     "output_type": "execute_result"
    },
    {
     "name": "stdout",
     "output_type": "stream",
     "text": [
      "Computing Numba time result: 0.7693178653717041\n"
     ]
    }
   ],
   "source": [
    "from numba import vectorize\n",
    "import time\n",
    "start = time.time()\n",
    "\n",
    "# The data types specified in @vectorize allow the function to handle both integers and floats efficiently\n",
    "# The `target='parallel' option enables the function to run across multiple CPU cores. This will result in significant speed improvements,\n",
    "# especially on multi-core machines.\n",
    "\n",
    "@vectorize(['int32(int32, int32)', 'float64(float64, float64)'], target='parallel') \n",
    "def func(x,y):\n",
    "    return x**3 + np.sqrt(x*y) + np.log(x/y)\n",
    "func(a,b)\n",
    "print(f\"Computing Numba time result: {time.time() - start}\")"
   ]
  },
  {
   "cell_type": "markdown",
   "id": "ac5e7f58-47d7-44cb-8bff-1df85d4ea853",
   "metadata": {},
   "source": [
    "The performance boost by using Numba when building custom functions is more than obvious. While in the case of `np.frompyfunc` the process completed   \n",
    "after 21 seconds, using `@vectorize` took us less than a second! This demonstrates the incredible efficiency gain achieved through parallelization."
   ]
  },
  {
   "cell_type": "markdown",
   "id": "abc54ff8-fb75-46ed-b893-d8cb29f721aa",
   "metadata": {},
   "source": [
    "### Linear Algebra Operations"
   ]
  },
  {
   "cell_type": "markdown",
   "id": "7b4ce8fe-b554-42e2-ac28-1f001d610adb",
   "metadata": {},
   "source": [
    "- Computing the norm/length of a 1D array(vector)"
   ]
  },
  {
   "cell_type": "code",
   "execution_count": 6,
   "id": "a139a004-3bef-4bb9-a4f3-221621cde5b7",
   "metadata": {},
   "outputs": [
    {
     "data": {
      "text/plain": [
       "array([1, 2, 3])"
      ]
     },
     "execution_count": 6,
     "metadata": {},
     "output_type": "execute_result"
    },
    {
     "data": {
      "text/plain": [
       "3.7416573867739413"
      ]
     },
     "execution_count": 6,
     "metadata": {},
     "output_type": "execute_result"
    }
   ],
   "source": [
    "a = np.array([1,2,3])\n",
    "a\n",
    "np.linalg.norm(a)"
   ]
  },
  {
   "cell_type": "markdown",
   "id": "68480e22-c6c6-4614-b23a-867ee05567bc",
   "metadata": {},
   "source": [
    "- Dot product of two 1D arrays(vectors)"
   ]
  },
  {
   "cell_type": "code",
   "execution_count": 7,
   "id": "8f409090-e702-45a8-b19d-b47c63aad43b",
   "metadata": {},
   "outputs": [
    {
     "data": {
      "text/plain": [
       "array([1, 2, 3])"
      ]
     },
     "execution_count": 7,
     "metadata": {},
     "output_type": "execute_result"
    },
    {
     "data": {
      "text/plain": [
       "array([2, 4, 6])"
      ]
     },
     "execution_count": 7,
     "metadata": {},
     "output_type": "execute_result"
    },
    {
     "data": {
      "text/plain": [
       "28"
      ]
     },
     "execution_count": 7,
     "metadata": {},
     "output_type": "execute_result"
    },
    {
     "data": {
      "text/plain": [
       "28"
      ]
     },
     "execution_count": 7,
     "metadata": {},
     "output_type": "execute_result"
    },
    {
     "data": {
      "text/plain": [
       "28"
      ]
     },
     "execution_count": 7,
     "metadata": {},
     "output_type": "execute_result"
    }
   ],
   "source": [
    "a = np.array([1,2,3])\n",
    "b = np.array([2,4,6])\n",
    "a\n",
    "b\n",
    "np.dot(a,b)\n",
    "np.vdot(a,b)\n",
    "a @ b"
   ]
  },
  {
   "cell_type": "markdown",
   "id": "80111791-9db3-428a-aed3-d8cb5e951e00",
   "metadata": {},
   "source": [
    "- Outer product of two 1D arrays(vectors)"
   ]
  },
  {
   "cell_type": "code",
   "execution_count": 57,
   "id": "9072db0a-e84d-4b50-ad65-a4cb98a38083",
   "metadata": {},
   "outputs": [
    {
     "data": {
      "text/plain": [
       "array([1, 2, 3])"
      ]
     },
     "execution_count": 57,
     "metadata": {},
     "output_type": "execute_result"
    },
    {
     "data": {
      "text/plain": [
       "array([2, 4, 6])"
      ]
     },
     "execution_count": 57,
     "metadata": {},
     "output_type": "execute_result"
    },
    {
     "data": {
      "text/plain": [
       "array([[ 2,  4,  6],\n",
       "       [ 4,  8, 12],\n",
       "       [ 6, 12, 18]])"
      ]
     },
     "execution_count": 57,
     "metadata": {},
     "output_type": "execute_result"
    },
    {
     "data": {
      "text/plain": [
       "(3, 3)"
      ]
     },
     "execution_count": 57,
     "metadata": {},
     "output_type": "execute_result"
    },
    {
     "data": {
      "text/plain": [
       "2"
      ]
     },
     "execution_count": 57,
     "metadata": {},
     "output_type": "execute_result"
    }
   ],
   "source": [
    "a = np.array([1,2,3])\n",
    "b = np.array([2,4,6])\n",
    "outer_prod = np.outer(a,b)\n",
    "a\n",
    "b\n",
    "outer_prod\n",
    "outer_prod.shape\n",
    "outer_prod.ndim"
   ]
  },
  {
   "cell_type": "markdown",
   "id": "7f0afaaa-f957-4ddd-9ec0-24db3345cd56",
   "metadata": {},
   "source": [
    "- Tensor product of two 2D arrays"
   ]
  },
  {
   "cell_type": "markdown",
   "id": "ccaae494-2673-4acf-a0c6-6823f5a624b1",
   "metadata": {},
   "source": [
    "In the example below we begin from 2D and end up to 4D. The resulting product comes from multiplying every element of the first 2D array with every element\n",
    "on the second 2D array. Having 6 elements on each 2D array it is logical to end with 6 2d arrays. As for the final shape of the tensor product, this derives from the concatenation of the shapes of the 2D arrays individually. This is why we moved from 2D to 4D with the final shape (2,3,2,3)."
   ]
  },
  {
   "cell_type": "code",
   "execution_count": 27,
   "id": "45948b76-2697-4d50-8d6b-3e3aad5506e9",
   "metadata": {},
   "outputs": [
    {
     "data": {
      "text/plain": [
       "array([[[[ 4,  5,  6],\n",
       "         [ 2,  2,  2]],\n",
       "\n",
       "        [[ 8, 10, 12],\n",
       "         [ 4,  4,  4]],\n",
       "\n",
       "        [[12, 15, 18],\n",
       "         [ 6,  6,  6]]],\n",
       "\n",
       "\n",
       "       [[[ 4,  5,  6],\n",
       "         [ 2,  2,  2]],\n",
       "\n",
       "        [[ 4,  5,  6],\n",
       "         [ 2,  2,  2]],\n",
       "\n",
       "        [[ 4,  5,  6],\n",
       "         [ 2,  2,  2]]]])"
      ]
     },
     "execution_count": 27,
     "metadata": {},
     "output_type": "execute_result"
    },
    {
     "data": {
      "text/plain": [
       "(2, 3, 2, 3)"
      ]
     },
     "execution_count": 27,
     "metadata": {},
     "output_type": "execute_result"
    }
   ],
   "source": [
    "a = np.array([[1,2,3],[1,1,1]])\n",
    "b = np.array([[4,5,6],[2,2,2]])\n",
    "np.tensordot(a,b, axes=0)\n",
    "np.tensordot(a,b, axes=0).shape"
   ]
  },
  {
   "cell_type": "markdown",
   "id": "bc3c3d31-6f40-4b9c-96c1-1ce918e2b9d9",
   "metadata": {},
   "source": [
    "Following the above example, we will compute the tensor product of an array with shape (3,3,2,1) and an array with shape (2,2,2).   \n",
    "According to the above observation the product will occupy the '7D world' with a shape (3,3,2,1,2,2,2) that comes from   \n",
    "the concatenation of the shapes of the original arrays."
   ]
  },
  {
   "cell_type": "code",
   "execution_count": 34,
   "id": "335e0b14-9cf1-4e75-9491-c1dc1e4ca895",
   "metadata": {},
   "outputs": [
    {
     "data": {
      "text/plain": [
       "array([[[[[[[ 28,  28],\n",
       "            [ 20,   8]],\n",
       "\n",
       "           [[ 12,  24],\n",
       "            [ 24,  34]]]],\n",
       "\n",
       "\n",
       "\n",
       "         [[[[ 70,  70],\n",
       "            [ 50,  20]],\n",
       "\n",
       "           [[ 30,  60],\n",
       "            [ 60,  85]]]]],\n",
       "\n",
       "\n",
       "\n",
       "\n",
       "        [[[[[ 28,  28],\n",
       "            [ 20,   8]],\n",
       "\n",
       "           [[ 12,  24],\n",
       "            [ 24,  34]]]],\n",
       "\n",
       "\n",
       "\n",
       "         [[[[ 42,  42],\n",
       "            [ 30,  12]],\n",
       "\n",
       "           [[ 18,  36],\n",
       "            [ 36,  51]]]]],\n",
       "\n",
       "\n",
       "\n",
       "\n",
       "        [[[[[ 14,  14],\n",
       "            [ 10,   4]],\n",
       "\n",
       "           [[  6,  12],\n",
       "            [ 12,  17]]]],\n",
       "\n",
       "\n",
       "\n",
       "         [[[[ 42,  42],\n",
       "            [ 30,  12]],\n",
       "\n",
       "           [[ 18,  36],\n",
       "            [ 36,  51]]]]]],\n",
       "\n",
       "\n",
       "\n",
       "\n",
       "\n",
       "       [[[[[[ 98,  98],\n",
       "            [ 70,  28]],\n",
       "\n",
       "           [[ 42,  84],\n",
       "            [ 84, 119]]]],\n",
       "\n",
       "\n",
       "\n",
       "         [[[[ 14,  14],\n",
       "            [ 10,   4]],\n",
       "\n",
       "           [[  6,  12],\n",
       "            [ 12,  17]]]]],\n",
       "\n",
       "\n",
       "\n",
       "\n",
       "        [[[[[ 70,  70],\n",
       "            [ 50,  20]],\n",
       "\n",
       "           [[ 30,  60],\n",
       "            [ 60,  85]]]],\n",
       "\n",
       "\n",
       "\n",
       "         [[[[126, 126],\n",
       "            [ 90,  36]],\n",
       "\n",
       "           [[ 54, 108],\n",
       "            [108, 153]]]]],\n",
       "\n",
       "\n",
       "\n",
       "\n",
       "        [[[[[ 28,  28],\n",
       "            [ 20,   8]],\n",
       "\n",
       "           [[ 12,  24],\n",
       "            [ 24,  34]]]],\n",
       "\n",
       "\n",
       "\n",
       "         [[[[ 98,  98],\n",
       "            [ 70,  28]],\n",
       "\n",
       "           [[ 42,  84],\n",
       "            [ 84, 119]]]]]],\n",
       "\n",
       "\n",
       "\n",
       "\n",
       "\n",
       "       [[[[[[  0,   0],\n",
       "            [  0,   0]],\n",
       "\n",
       "           [[  0,   0],\n",
       "            [  0,   0]]]],\n",
       "\n",
       "\n",
       "\n",
       "         [[[[ 14,  14],\n",
       "            [ 10,   4]],\n",
       "\n",
       "           [[  6,  12],\n",
       "            [ 12,  17]]]]],\n",
       "\n",
       "\n",
       "\n",
       "\n",
       "        [[[[[ 84,  84],\n",
       "            [ 60,  24]],\n",
       "\n",
       "           [[ 36,  72],\n",
       "            [ 72, 102]]]],\n",
       "\n",
       "\n",
       "\n",
       "         [[[[ 56,  56],\n",
       "            [ 40,  16]],\n",
       "\n",
       "           [[ 24,  48],\n",
       "            [ 48,  68]]]]],\n",
       "\n",
       "\n",
       "\n",
       "\n",
       "        [[[[[ 84,  84],\n",
       "            [ 60,  24]],\n",
       "\n",
       "           [[ 36,  72],\n",
       "            [ 72, 102]]]],\n",
       "\n",
       "\n",
       "\n",
       "         [[[[ 28,  28],\n",
       "            [ 20,   8]],\n",
       "\n",
       "           [[ 12,  24],\n",
       "            [ 24,  34]]]]]]])"
      ]
     },
     "execution_count": 34,
     "metadata": {},
     "output_type": "execute_result"
    },
    {
     "data": {
      "text/plain": [
       "7"
      ]
     },
     "execution_count": 34,
     "metadata": {},
     "output_type": "execute_result"
    },
    {
     "data": {
      "text/plain": [
       "(3, 3, 2, 1, 2, 2, 2)"
      ]
     },
     "execution_count": 34,
     "metadata": {},
     "output_type": "execute_result"
    }
   ],
   "source": [
    "a = np.random.randint(10, size=(3,3,2,1))\n",
    "b = np.random.randint(20, size=(2,2,2))\n",
    "np.tensordot(a,b, axes=0)\n",
    "np.tensordot(a,b, axes=0).ndim\n",
    "np.tensordot(a,b, axes=0).shape"
   ]
  },
  {
   "cell_type": "markdown",
   "id": "ddce551e-0913-4c6b-ae05-d89218b2cf66",
   "metadata": {},
   "source": [
    "- Determinant and Trace of a square matrix"
   ]
  },
  {
   "cell_type": "code",
   "execution_count": 76,
   "id": "b28553c4-0813-42f4-9b36-33d8f1d25e60",
   "metadata": {},
   "outputs": [
    {
     "data": {
      "text/plain": [
       "array([[1, 1],\n",
       "       [2, 3]])"
      ]
     },
     "execution_count": 76,
     "metadata": {},
     "output_type": "execute_result"
    },
    {
     "data": {
      "text/plain": [
       "4"
      ]
     },
     "execution_count": 76,
     "metadata": {},
     "output_type": "execute_result"
    },
    {
     "data": {
      "text/plain": [
       "1.0"
      ]
     },
     "execution_count": 76,
     "metadata": {},
     "output_type": "execute_result"
    }
   ],
   "source": [
    "A = np.array([[1,1],[2,3]])\n",
    "A\n",
    "trace = np.trace(A)\n",
    "determinant = np.linalg.det(A)\n",
    "trace\n",
    "determinant"
   ]
  },
  {
   "cell_type": "markdown",
   "id": "2a1d5186-513a-453b-b24a-8cc9e8de6244",
   "metadata": {},
   "source": [
    "- Matrix multiplication"
   ]
  },
  {
   "cell_type": "code",
   "execution_count": 77,
   "id": "8f9b58fe-bacd-4c6a-8f36-10c4dacaa2c5",
   "metadata": {},
   "outputs": [
    {
     "data": {
      "text/plain": [
       "array([[1, 1],\n",
       "       [2, 2],\n",
       "       [3, 3]])"
      ]
     },
     "execution_count": 77,
     "metadata": {},
     "output_type": "execute_result"
    },
    {
     "data": {
      "text/plain": [
       "array([[1, 1, 1],\n",
       "       [4, 4, 4]])"
      ]
     },
     "execution_count": 77,
     "metadata": {},
     "output_type": "execute_result"
    },
    {
     "data": {
      "text/plain": [
       "array([[ 5,  5,  5],\n",
       "       [10, 10, 10],\n",
       "       [15, 15, 15]])"
      ]
     },
     "execution_count": 77,
     "metadata": {},
     "output_type": "execute_result"
    },
    {
     "data": {
      "text/plain": [
       "array([[ 5,  5,  5],\n",
       "       [10, 10, 10],\n",
       "       [15, 15, 15]])"
      ]
     },
     "execution_count": 77,
     "metadata": {},
     "output_type": "execute_result"
    }
   ],
   "source": [
    "A = np.array([[1,1],[2,2],[3,3]])\n",
    "B = np.array([[1,1,1],[4,4,4]])\n",
    "A\n",
    "B\n",
    "np.matmul(A,B)\n",
    "A @ B"
   ]
  },
  {
   "cell_type": "markdown",
   "id": "a030246a-4957-43c1-b1c2-af52ece9cc3c",
   "metadata": {},
   "source": [
    "- Inverse of a square matrix"
   ]
  },
  {
   "cell_type": "code",
   "execution_count": 78,
   "id": "df6059d3-30b5-4386-8b18-325bf622b9f7",
   "metadata": {},
   "outputs": [
    {
     "data": {
      "text/plain": [
       "array([[1, 2],\n",
       "       [0, 1]])"
      ]
     },
     "execution_count": 78,
     "metadata": {},
     "output_type": "execute_result"
    },
    {
     "data": {
      "text/plain": [
       "array([[1., 0.],\n",
       "       [0., 1.]])"
      ]
     },
     "execution_count": 78,
     "metadata": {},
     "output_type": "execute_result"
    }
   ],
   "source": [
    "A = np.array([[1,2],[0,1]])\n",
    "A\n",
    "inv_A = np.linalg.inv(A)\n",
    "np.matmul(A, inv_A)"
   ]
  },
  {
   "cell_type": "markdown",
   "id": "9ee83340-d026-464d-9fd1-9aa05452226d",
   "metadata": {},
   "source": [
    "- Pseudo Inverse of a rectangular matrix"
   ]
  },
  {
   "cell_type": "code",
   "execution_count": 79,
   "id": "0a386632-6f20-41f3-acd9-e536586cb951",
   "metadata": {},
   "outputs": [
    {
     "data": {
      "text/plain": [
       "array([[1., 2.],\n",
       "       [3., 4.],\n",
       "       [5., 6.]])"
      ]
     },
     "execution_count": 79,
     "metadata": {},
     "output_type": "execute_result"
    },
    {
     "data": {
      "text/plain": [
       "array([[-1.33333333, -0.33333333,  0.66666667],\n",
       "       [ 1.08333333,  0.33333333, -0.41666667]])"
      ]
     },
     "execution_count": 79,
     "metadata": {},
     "output_type": "execute_result"
    },
    {
     "data": {
      "text/plain": [
       "array([[1., 2.],\n",
       "       [3., 4.],\n",
       "       [5., 6.]])"
      ]
     },
     "execution_count": 79,
     "metadata": {},
     "output_type": "execute_result"
    },
    {
     "data": {
      "text/plain": [
       "array([[-1.33333333, -0.33333333,  0.66666667],\n",
       "       [ 1.08333333,  0.33333333, -0.41666667]])"
      ]
     },
     "execution_count": 79,
     "metadata": {},
     "output_type": "execute_result"
    },
    {
     "data": {
      "text/plain": [
       "array([[ 0.00000000e+00,  7.21644966e-16,  2.99760217e-15],\n",
       "       [-7.21644966e-16,  0.00000000e+00,  1.99840144e-15],\n",
       "       [-2.99760217e-15, -1.99840144e-15,  0.00000000e+00]])"
      ]
     },
     "execution_count": 79,
     "metadata": {},
     "output_type": "execute_result"
    },
    {
     "data": {
      "text/plain": [
       "array([[ 0.00000000e+00, -2.66453526e-15],\n",
       "       [ 2.66453526e-15,  0.00000000e+00]])"
      ]
     },
     "execution_count": 79,
     "metadata": {},
     "output_type": "execute_result"
    }
   ],
   "source": [
    "A = np.array([[1,2],[3,4],[5,6]], dtype='float64')\n",
    "A\n",
    "pseudo_invA = np.linalg.pinv(A)\n",
    "pseudo_invA\n",
    "\n",
    "# Checking if the conditions for the pseudo inverse matrix are met\n",
    "np.matmul(np.matmul(A, pseudo_invA),A)\n",
    "np.matmul(np.matmul(pseudo_invA, A), pseudo_invA)\n",
    "np.matmul(A, pseudo_invA) - np.transpose(np.matmul(A, pseudo_invA))\n",
    "np.matmul(pseudo_invA, A) - np.transpose(np.matmul(pseudo_invA, A))"
   ]
  },
  {
   "cell_type": "markdown",
   "id": "e49690b2-6b8c-4a30-ab95-219566a32955",
   "metadata": {},
   "source": [
    "- Singular Value Decomposition(SVD) of a matrix"
   ]
  },
  {
   "cell_type": "code",
   "execution_count": 80,
   "id": "5a71eadb-649b-4d74-9680-7901200c9ac9",
   "metadata": {},
   "outputs": [
    {
     "data": {
      "text/plain": [
       "array([[ 3,  2,  2],\n",
       "       [ 2,  3, -2]])"
      ]
     },
     "execution_count": 80,
     "metadata": {},
     "output_type": "execute_result"
    },
    {
     "data": {
      "text/plain": [
       "array([[ 0.70710678, -0.70710678],\n",
       "       [ 0.70710678,  0.70710678]])"
      ]
     },
     "execution_count": 80,
     "metadata": {},
     "output_type": "execute_result"
    },
    {
     "data": {
      "text/plain": [
       "array([[5., 0.],\n",
       "       [0., 3.]])"
      ]
     },
     "execution_count": 80,
     "metadata": {},
     "output_type": "execute_result"
    },
    {
     "data": {
      "text/plain": [
       "array([[ 7.07106781e-01,  7.07106781e-01,  3.88578059e-16],\n",
       "       [-2.35702260e-01,  2.35702260e-01, -9.42809042e-01]])"
      ]
     },
     "execution_count": 80,
     "metadata": {},
     "output_type": "execute_result"
    },
    {
     "data": {
      "text/plain": [
       "array([[ 3.,  2.,  2.],\n",
       "       [ 2.,  3., -2.]])"
      ]
     },
     "execution_count": 80,
     "metadata": {},
     "output_type": "execute_result"
    }
   ],
   "source": [
    "A = np.array([[3,2,2],[2,3,-2]])\n",
    "A\n",
    "U, S, V = np.linalg.svd(A, full_matrices=False)\n",
    "U\n",
    "S = np.diag(S)\n",
    "S\n",
    "V\n",
    "np.matmul(U@S, V)"
   ]
  },
  {
   "cell_type": "markdown",
   "id": "28a00017-dffd-461d-a834-5bc8d67d09a2",
   "metadata": {},
   "source": [
    "- Solving an overdetermined system of linear equations using two different methods.\n",
    "1. The least squares method\n",
    "2. The pseudo-inverse matrix method"
   ]
  },
  {
   "cell_type": "code",
   "execution_count": 81,
   "id": "88df2896-411d-476a-80c5-be75aa397bb5",
   "metadata": {},
   "outputs": [
    {
     "data": {
      "text/plain": [
       "array([[ 3, -2,  2],\n",
       "       [ 2, -3,  4],\n",
       "       [ 1, -6,  7],\n",
       "       [-1,  3, -3],\n",
       "       [ 7,  5, -1]])"
      ]
     },
     "execution_count": 81,
     "metadata": {},
     "output_type": "execute_result"
    },
    {
     "data": {
      "text/plain": [
       "array([ 1,  2,  3, -1,  4])"
      ]
     },
     "execution_count": 81,
     "metadata": {},
     "output_type": "execute_result"
    },
    {
     "data": {
      "text/plain": [
       "(5, 3)"
      ]
     },
     "execution_count": 81,
     "metadata": {},
     "output_type": "execute_result"
    },
    {
     "data": {
      "text/plain": [
       "(5,)"
      ]
     },
     "execution_count": 81,
     "metadata": {},
     "output_type": "execute_result"
    },
    {
     "data": {
      "text/plain": [
       "array([0.13780168, 0.82150188, 1.09880388])"
      ]
     },
     "execution_count": 81,
     "metadata": {},
     "output_type": "execute_result"
    },
    {
     "data": {
      "text/plain": [
       "array([0.13780168, 0.82150188, 1.09880388])"
      ]
     },
     "execution_count": 81,
     "metadata": {},
     "output_type": "execute_result"
    }
   ],
   "source": [
    "# Solving A*x=b -the overdetermined case\n",
    "# Least squares method\n",
    "A = np.array([[3, -2, 2], [2, -3, 4], [1,-6,7], [-1,3,-3], [7,5,-1]])\n",
    "b = np.array([1,2,3,-1,4])\n",
    "A\n",
    "b\n",
    "A.shape\n",
    "b.shape\n",
    "x, res, rank, s = np.linalg.lstsq(A,b, rcond=None)\n",
    "x\n",
    "\n",
    "# Pseudo-inverse method\n",
    "pseudo_invA = np.linalg.pinv(A)\n",
    "x = pseudo_invA @ b\n",
    "x"
   ]
  },
  {
   "cell_type": "markdown",
   "id": "5a427758-9a40-43bc-9115-3c8a7fb2b075",
   "metadata": {},
   "source": [
    "For more information on Linear Algebra operations using the NumPy library you can check the official documentation: https://numpy.org/doc/stable/reference/routines.linalg.html"
   ]
  },
  {
   "cell_type": "markdown",
   "id": "64db0869-1762-4f41-afc1-486a32cce31e",
   "metadata": {},
   "source": [
    "### Descriptive Statistics using NumPy"
   ]
  },
  {
   "cell_type": "markdown",
   "id": "a8820a59-345b-4990-9d94-02711a6718ff",
   "metadata": {},
   "source": [
    "- Minimum"
   ]
  },
  {
   "cell_type": "code",
   "execution_count": 82,
   "id": "4ccd0d4e-3c5f-4e70-bb87-469fc6175ca5",
   "metadata": {},
   "outputs": [
    {
     "data": {
      "text/plain": [
       "array([[[ 1,  5, -9],\n",
       "        [ 2, -4,  6],\n",
       "        [-3,  7, 11]],\n",
       "\n",
       "       [[ 4, -5, 12],\n",
       "        [10, -1,  5],\n",
       "        [ 8,  3,  6]]])"
      ]
     },
     "execution_count": 82,
     "metadata": {},
     "output_type": "execute_result"
    },
    {
     "data": {
      "text/plain": [
       "-9"
      ]
     },
     "execution_count": 82,
     "metadata": {},
     "output_type": "execute_result"
    },
    {
     "data": {
      "text/plain": [
       "array([[ 1, -5, -9],\n",
       "       [ 2, -4,  5],\n",
       "       [-3,  3,  6]])"
      ]
     },
     "execution_count": 82,
     "metadata": {},
     "output_type": "execute_result"
    },
    {
     "data": {
      "text/plain": [
       "array([[-3, -4, -9],\n",
       "       [ 4, -5,  5]])"
      ]
     },
     "execution_count": 82,
     "metadata": {},
     "output_type": "execute_result"
    },
    {
     "data": {
      "text/plain": [
       "array([[-9, -4, -3],\n",
       "       [-5, -1,  3]])"
      ]
     },
     "execution_count": 82,
     "metadata": {},
     "output_type": "execute_result"
    }
   ],
   "source": [
    "B = np.array([[[1,5,-9],[2,-4,6],[-3,7,11]], [[4,-5,12],[10,-1,5],[8,3,6]]])\n",
    "B\n",
    "# The minimum value across all elements inside the tensor as if the array is flattened\n",
    "np.min(B)\n",
    "\n",
    "# The minimum values across the matrices inside the tensor\n",
    "np.min(B, axis=0)\n",
    "\n",
    "# The minimum values across the rows in each matrix inside the tensor\n",
    "np.min(B, axis=1)\n",
    "\n",
    "# The minimum values across the columns in each matrix inside the tensor\n",
    "np.min(B, axis=2)"
   ]
  },
  {
   "cell_type": "markdown",
   "id": "998db582-b1e8-4ea2-970d-eafc0033b978",
   "metadata": {},
   "source": [
    "- Maximum"
   ]
  },
  {
   "cell_type": "code",
   "execution_count": 83,
   "id": "9fc86425-84f3-4fba-9338-aaec884cf9db",
   "metadata": {},
   "outputs": [
    {
     "data": {
      "text/plain": [
       "array([[[ 1,  5, -9],\n",
       "        [ 2, -4,  6],\n",
       "        [-3,  7, 11]],\n",
       "\n",
       "       [[ 4, -5, 12],\n",
       "        [10, -1,  5],\n",
       "        [ 8,  3,  6]]])"
      ]
     },
     "execution_count": 83,
     "metadata": {},
     "output_type": "execute_result"
    },
    {
     "data": {
      "text/plain": [
       "12"
      ]
     },
     "execution_count": 83,
     "metadata": {},
     "output_type": "execute_result"
    },
    {
     "data": {
      "text/plain": [
       "array([[ 4,  5, 12],\n",
       "       [10, -1,  6],\n",
       "       [ 8,  7, 11]])"
      ]
     },
     "execution_count": 83,
     "metadata": {},
     "output_type": "execute_result"
    },
    {
     "data": {
      "text/plain": [
       "array([[ 2,  7, 11],\n",
       "       [10,  3, 12]])"
      ]
     },
     "execution_count": 83,
     "metadata": {},
     "output_type": "execute_result"
    },
    {
     "data": {
      "text/plain": [
       "array([[ 5,  6, 11],\n",
       "       [12, 10,  8]])"
      ]
     },
     "execution_count": 83,
     "metadata": {},
     "output_type": "execute_result"
    }
   ],
   "source": [
    "B\n",
    "# The maximum value across all elements inside the tensor as if the array is flattened\n",
    "np.max(B)\n",
    "\n",
    "# The maximum values across the matrices inside the tensor\n",
    "np.max(B, axis=0)\n",
    "\n",
    "# The maximum values across the rows in each matrix inside the tensor\n",
    "np.max(B, axis=1)\n",
    "\n",
    "# The maximum values across the columns in each matrix inside the tensor\n",
    "np.max(B, axis=2)"
   ]
  },
  {
   "cell_type": "markdown",
   "id": "4026b834-ed18-44ce-ab8a-647e67bdc42e",
   "metadata": {},
   "source": [
    "- Sum"
   ]
  },
  {
   "cell_type": "code",
   "execution_count": 84,
   "id": "c03f127a-30db-4890-bb8c-1c4ce7974723",
   "metadata": {},
   "outputs": [
    {
     "data": {
      "text/plain": [
       "array([[[ 1,  5, -9],\n",
       "        [ 2, -4,  6],\n",
       "        [-3,  7, 11]],\n",
       "\n",
       "       [[ 4, -5, 12],\n",
       "        [10, -1,  5],\n",
       "        [ 8,  3,  6]]])"
      ]
     },
     "execution_count": 84,
     "metadata": {},
     "output_type": "execute_result"
    },
    {
     "data": {
      "text/plain": [
       "58"
      ]
     },
     "execution_count": 84,
     "metadata": {},
     "output_type": "execute_result"
    },
    {
     "data": {
      "text/plain": [
       "array([[ 5,  0,  3],\n",
       "       [12, -5, 11],\n",
       "       [ 5, 10, 17]])"
      ]
     },
     "execution_count": 84,
     "metadata": {},
     "output_type": "execute_result"
    },
    {
     "data": {
      "text/plain": [
       "array([[ 0,  8,  8],\n",
       "       [22, -3, 23]])"
      ]
     },
     "execution_count": 84,
     "metadata": {},
     "output_type": "execute_result"
    },
    {
     "data": {
      "text/plain": [
       "array([[-3,  4, 15],\n",
       "       [11, 14, 17]])"
      ]
     },
     "execution_count": 84,
     "metadata": {},
     "output_type": "execute_result"
    }
   ],
   "source": [
    "B\n",
    "# The sum of the values across all elements inside the tensor as if the array is flattened\n",
    "np.sum(B)\n",
    "\n",
    "# The sum of the values across the matrices inside the tensor\n",
    "np.sum(B, axis=0)\n",
    "\n",
    "# The sum of the values across the rows in each matrix inside the tensor\n",
    "np.sum(B, axis=1)\n",
    "\n",
    "# The sum of the values across the columns in each matrix inside the tensor\n",
    "np.sum(B, axis=2)"
   ]
  },
  {
   "cell_type": "markdown",
   "id": "b7737c61-4e09-4bce-8293-673556f642bc",
   "metadata": {},
   "source": [
    "- Mean"
   ]
  },
  {
   "cell_type": "code",
   "execution_count": 85,
   "id": "57027722-211b-4ddb-8984-4453b315f1cd",
   "metadata": {},
   "outputs": [
    {
     "data": {
      "text/plain": [
       "array([[[ 1,  5, -9],\n",
       "        [ 2, -4,  6],\n",
       "        [-3,  7, 11]],\n",
       "\n",
       "       [[ 4, -5, 12],\n",
       "        [10, -1,  5],\n",
       "        [ 8,  3,  6]]])"
      ]
     },
     "execution_count": 85,
     "metadata": {},
     "output_type": "execute_result"
    },
    {
     "data": {
      "text/plain": [
       "3.2222222222222223"
      ]
     },
     "execution_count": 85,
     "metadata": {},
     "output_type": "execute_result"
    },
    {
     "data": {
      "text/plain": [
       "array([[ 2.5,  0. ,  1.5],\n",
       "       [ 6. , -2.5,  5.5],\n",
       "       [ 2.5,  5. ,  8.5]])"
      ]
     },
     "execution_count": 85,
     "metadata": {},
     "output_type": "execute_result"
    },
    {
     "data": {
      "text/plain": [
       "array([[ 0.        ,  2.66666667,  2.66666667],\n",
       "       [ 7.33333333, -1.        ,  7.66666667]])"
      ]
     },
     "execution_count": 85,
     "metadata": {},
     "output_type": "execute_result"
    },
    {
     "data": {
      "text/plain": [
       "array([[-1.        ,  1.33333333,  5.        ],\n",
       "       [ 3.66666667,  4.66666667,  5.66666667]])"
      ]
     },
     "execution_count": 85,
     "metadata": {},
     "output_type": "execute_result"
    }
   ],
   "source": [
    "B\n",
    "# The mean of the values across all elements inside the tensor as if the array is flattened\n",
    "np.mean(B)\n",
    "\n",
    "# The mean of the values across each matrix inside the tensor\n",
    "np.mean(B, axis=0)\n",
    "\n",
    "# The mean of the values across the rows in each matrix inside the tensor\n",
    "np.mean(B, axis=1)\n",
    "\n",
    "# The mean of the values across the columns in each matrix inside the tensor\n",
    "np.mean(B, axis=2)"
   ]
  },
  {
   "cell_type": "markdown",
   "id": "78e59eef-bdf1-4e1a-ac0d-c028d813acaa",
   "metadata": {},
   "source": [
    "- Median"
   ]
  },
  {
   "cell_type": "code",
   "execution_count": 86,
   "id": "1e6f0b6a-d934-4ac3-9544-06941ffd4061",
   "metadata": {},
   "outputs": [
    {
     "data": {
      "text/plain": [
       "array([[[ 1,  5, -9],\n",
       "        [ 2, -4,  6],\n",
       "        [-3,  7, 11]],\n",
       "\n",
       "       [[ 4, -5, 12],\n",
       "        [10, -1,  5],\n",
       "        [ 8,  3,  6]]])"
      ]
     },
     "execution_count": 86,
     "metadata": {},
     "output_type": "execute_result"
    },
    {
     "data": {
      "text/plain": [
       "4.5"
      ]
     },
     "execution_count": 86,
     "metadata": {},
     "output_type": "execute_result"
    },
    {
     "data": {
      "text/plain": [
       "array([[ 2.5,  0. ,  1.5],\n",
       "       [ 6. , -2.5,  5.5],\n",
       "       [ 2.5,  5. ,  8.5]])"
      ]
     },
     "execution_count": 86,
     "metadata": {},
     "output_type": "execute_result"
    },
    {
     "data": {
      "text/plain": [
       "array([[ 1.,  5.,  6.],\n",
       "       [ 8., -1.,  6.]])"
      ]
     },
     "execution_count": 86,
     "metadata": {},
     "output_type": "execute_result"
    },
    {
     "data": {
      "text/plain": [
       "array([[1., 2., 7.],\n",
       "       [4., 5., 6.]])"
      ]
     },
     "execution_count": 86,
     "metadata": {},
     "output_type": "execute_result"
    }
   ],
   "source": [
    "B\n",
    "# The median of the values across all elements inside the tensor as if the array is flattened\n",
    "np.median(B)\n",
    "\n",
    "# The median of the values across each matrix inside the tensor\n",
    "np.median(B, axis=0)\n",
    "\n",
    "# The median of the values across the rows in each matrix inside the tensor\n",
    "np.median(B, axis=1)\n",
    "\n",
    "# The median of the values across the columns in each matrix inside the tensor\n",
    "np.median(B, axis=2)"
   ]
  },
  {
   "cell_type": "markdown",
   "id": "3e5a800f-d3c3-435d-aa70-dbaf17b5e7e5",
   "metadata": {},
   "source": [
    "- Standard deviation"
   ]
  },
  {
   "cell_type": "code",
   "execution_count": 87,
   "id": "dee7662a-85bc-42fe-ac49-f77d8295f407",
   "metadata": {},
   "outputs": [
    {
     "data": {
      "text/plain": [
       "array([[[ 1,  5, -9],\n",
       "        [ 2, -4,  6],\n",
       "        [-3,  7, 11]],\n",
       "\n",
       "       [[ 4, -5, 12],\n",
       "        [10, -1,  5],\n",
       "        [ 8,  3,  6]]])"
      ]
     },
     "execution_count": 87,
     "metadata": {},
     "output_type": "execute_result"
    },
    {
     "data": {
      "text/plain": [
       "5.652487707545291"
      ]
     },
     "execution_count": 87,
     "metadata": {},
     "output_type": "execute_result"
    },
    {
     "data": {
      "text/plain": [
       "array([[ 1.5,  5. , 10.5],\n",
       "       [ 4. ,  1.5,  0.5],\n",
       "       [ 5.5,  2. ,  2.5]])"
      ]
     },
     "execution_count": 87,
     "metadata": {},
     "output_type": "execute_result"
    },
    {
     "data": {
      "text/plain": [
       "array([[2.1602469 , 4.78423336, 8.49836586],\n",
       "       [2.49443826, 3.26598632, 3.09120617]])"
      ]
     },
     "execution_count": 87,
     "metadata": {},
     "output_type": "execute_result"
    },
    {
     "data": {
      "text/plain": [
       "array([[5.88784058, 4.10960934, 5.88784058],\n",
       "       [6.94422222, 4.49691252, 2.05480467]])"
      ]
     },
     "execution_count": 87,
     "metadata": {},
     "output_type": "execute_result"
    }
   ],
   "source": [
    "B\n",
    "# The Standard deviation of the values across all elements inside the tensor as if the array is flattened\n",
    "np.std(B)\n",
    "\n",
    "# The Standard deviation of the values across each matrix inside the tensor\n",
    "np.std(B, axis=0)\n",
    "\n",
    "# The Standard deviation of the values across the rows in each matrix inside the tensor\n",
    "np.std(B, axis=1)\n",
    "\n",
    "# The Standard deviation of the values across the columns in each matrix inside the tensor\n",
    "np.std(B, axis=2)"
   ]
  },
  {
   "cell_type": "markdown",
   "id": "a473bb80-2500-4b26-b26b-987d23237674",
   "metadata": {},
   "source": [
    "- percentiles"
   ]
  },
  {
   "cell_type": "code",
   "execution_count": 88,
   "id": "29ace0b0-0db5-4d59-99e4-b2521b674fe5",
   "metadata": {},
   "outputs": [
    {
     "data": {
      "text/plain": [
       "array([[[ 1,  5, -9],\n",
       "        [ 2, -4,  6],\n",
       "        [-3,  7, 11]],\n",
       "\n",
       "       [[ 4, -5, 12],\n",
       "        [10, -1,  5],\n",
       "        [ 8,  3,  6]]])"
      ]
     },
     "execution_count": 88,
     "metadata": {},
     "output_type": "execute_result"
    },
    {
     "data": {
      "text/plain": [
       "6.75"
      ]
     },
     "execution_count": 88,
     "metadata": {},
     "output_type": "execute_result"
    },
    {
     "data": {
      "text/plain": [
       "array([[ 3.25,  2.5 ,  6.75],\n",
       "       [ 8.  , -1.75,  5.75],\n",
       "       [ 5.25,  6.  ,  9.75]])"
      ]
     },
     "execution_count": 88,
     "metadata": {},
     "output_type": "execute_result"
    },
    {
     "data": {
      "text/plain": [
       "array([[1.5, 6. , 8.5],\n",
       "       [9. , 1. , 9. ]])"
      ]
     },
     "execution_count": 88,
     "metadata": {},
     "output_type": "execute_result"
    },
    {
     "data": {
      "text/plain": [
       "array([[3. , 4. , 9. ],\n",
       "       [8. , 7.5, 7. ]])"
      ]
     },
     "execution_count": 88,
     "metadata": {},
     "output_type": "execute_result"
    }
   ],
   "source": [
    "B\n",
    "# The 75 percentile of the values across all elements inside the tensor as if the array is flattened \n",
    "np.percentile(B, q=75)\n",
    "\n",
    "# The 75 percentile of the values across each matrix inside the tensor\n",
    "np.percentile(B, q=75, axis=0)\n",
    "\n",
    "# The 75 percentile of the values across the rows in each matrix inside the tensor\n",
    "np.percentile(B, q=75, axis=1)\n",
    "\n",
    "# The 75 percentile of the values across the columns in each matrix inside the tensor\n",
    "np.percentile(B, q=75, axis=2)"
   ]
  },
  {
   "cell_type": "markdown",
   "id": "fd5e5a94-902a-4005-a597-612fd7cf0e16",
   "metadata": {},
   "source": [
    "More information on statistics using the NumPy library can be found in the official documentation here: https://numpy.org/doc/stable/reference/routines.statistics.html"
   ]
  },
  {
   "cell_type": "markdown",
   "id": "6b4ac21b-03c5-46d0-aa36-b50b8c86ca8e",
   "metadata": {},
   "source": [
    "### Performance Benefits of using NumPy and its vectorization mechanism"
   ]
  },
  {
   "cell_type": "markdown",
   "id": "15effe54-531a-4b11-85c3-b6434c3c1f73",
   "metadata": {},
   "source": [
    "One of the primary reasons for using NumPy in mathematical operations, instead of relying on traditional Python loops, is the significant performance boost provided by vectorization. In NumPy, arithmetic operations are applied directly to each element of an array without the need for explicit loops. This approach is much faster compared to iterating over elements in a Python list with a for loop."
   ]
  },
  {
   "cell_type": "markdown",
   "id": "fbe94c2c-eae4-4b05-8d61-400d6246e043",
   "metadata": {},
   "source": [
    "We start by building an array of 10 million random floats in the interval [0,1)"
   ]
  },
  {
   "cell_type": "code",
   "execution_count": 10,
   "id": "9a528e55-a6a0-4974-bcf1-02714b7bdc5f",
   "metadata": {},
   "outputs": [],
   "source": [
    "rng = np.random.default_rng(seed=123)\n",
    "a = rng.random(size=10000000)"
   ]
  },
  {
   "cell_type": "code",
   "execution_count": 6,
   "id": "3af8c83f-c8cd-4e9b-88f6-5f73631f38f2",
   "metadata": {},
   "outputs": [
    {
     "data": {
      "text/plain": [
       "array([0.68235186, 0.05382102, 0.22035987, ..., 0.30556449, 0.16787996,\n",
       "       0.0722172 ])"
      ]
     },
     "execution_count": 6,
     "metadata": {},
     "output_type": "execute_result"
    },
    {
     "data": {
      "text/plain": [
       "numpy.ndarray"
      ]
     },
     "execution_count": 6,
     "metadata": {},
     "output_type": "execute_result"
    },
    {
     "data": {
      "text/plain": [
       "10000000"
      ]
     },
     "execution_count": 6,
     "metadata": {},
     "output_type": "execute_result"
    }
   ],
   "source": [
    "a\n",
    "type(a)\n",
    "len(a)"
   ]
  },
  {
   "cell_type": "markdown",
   "id": "08b20055-262d-4666-85c9-7a22408526ec",
   "metadata": {},
   "source": [
    "We populate also a list with the elements of the array"
   ]
  },
  {
   "cell_type": "code",
   "execution_count": 7,
   "id": "4041ce01-d09b-42af-9ce3-2049090b5605",
   "metadata": {},
   "outputs": [
    {
     "data": {
      "text/plain": [
       "list"
      ]
     },
     "execution_count": 7,
     "metadata": {},
     "output_type": "execute_result"
    },
    {
     "data": {
      "text/plain": [
       "10000000"
      ]
     },
     "execution_count": 7,
     "metadata": {},
     "output_type": "execute_result"
    }
   ],
   "source": [
    "list_a = a.tolist()\n",
    "type(list_a)\n",
    "len(list_a)"
   ]
  },
  {
   "cell_type": "markdown",
   "id": "7abf21eb-3b2c-4008-930f-8a0ab544ba2c",
   "metadata": {},
   "source": [
    "The sigmoid function serves as a nice example to illustrate the performance difference. We will compute the sigmoid function for each element in both the list and the NumPy array. "
   ]
  },
  {
   "cell_type": "code",
   "execution_count": 20,
   "id": "a3474bcc-b793-43a5-a431-ced16c0b456a",
   "metadata": {},
   "outputs": [],
   "source": [
    "def sigmoid(x):\n",
    "    sig = 1.0 / (1 + np.exp(-x))\n",
    "    return sig"
   ]
  },
  {
   "cell_type": "markdown",
   "id": "14ccc414-5cdc-4da8-964a-91fe660a5151",
   "metadata": {},
   "source": [
    "- Using a for loop for the list"
   ]
  },
  {
   "cell_type": "code",
   "execution_count": 21,
   "id": "555d8606-a3db-4bff-91c8-8e311c405de5",
   "metadata": {},
   "outputs": [
    {
     "name": "stdout",
     "output_type": "stream",
     "text": [
      "Loop time result: 13.435590267181396\n"
     ]
    }
   ],
   "source": [
    "import time\n",
    "from math import exp\n",
    "start = time.time()\n",
    "b = [sigmoid(x) for x in list_a]\n",
    "print(f\"Loop time result: {time.time() - start}\")"
   ]
  },
  {
   "cell_type": "markdown",
   "id": "9dbde881-118b-4bb2-be8d-0aa3865d4e89",
   "metadata": {},
   "source": [
    "- Using the vectorized operation on the array"
   ]
  },
  {
   "cell_type": "code",
   "execution_count": 22,
   "id": "2409cccf-1923-4c29-a9eb-08e211ab48cf",
   "metadata": {},
   "outputs": [
    {
     "name": "stdout",
     "output_type": "stream",
     "text": [
      "Vectorized time result: 0.3306314945220947\n"
     ]
    }
   ],
   "source": [
    "import time\n",
    "start = time.time()\n",
    "b = sigmoid(a)\n",
    "print(f\"Vectorized time result: {time.time() - start}\")"
   ]
  },
  {
   "cell_type": "markdown",
   "id": "9cd483e4-7cba-4c53-bb98-4888df9f244e",
   "metadata": {},
   "source": [
    "The difference in execution time between the two methods is immense. Using a for loop with a Python list took approximately 13 seconds, while applying the vectorized operation on a NumPy array took only 0.3 seconds. This highlights the efficiency of NumPy’s vectorization mechanism, especially when utilized in Big Data."
   ]
  },
  {
   "cell_type": "markdown",
   "id": "e4d01502-8182-41f5-bfa5-5d743b59548e",
   "metadata": {},
   "source": [
    "### Memory Layouts in NumPy: C-contiguous Arrays"
   ]
  },
  {
   "cell_type": "markdown",
   "id": "536acac3-5396-4e44-b858-d73b6ffd835c",
   "metadata": {},
   "source": [
    "Continuing from the comments on the previous section about the performance benefits of using NumPy, another critical factor contributing to the library’s efficiency is the **memory layout of NumPy arrays**. This layout refers to how the elements of the array are stored in the computer’s memory, and it directly impacts how efficiently operations can access and manipulate the data.   \n",
    "The default layout in which all np.arrays are built is the C-contiguous (Row-major order), where rows of the array are stored sequentially in memory, and is optimized for row-wise operations.   \n",
    "To ensure that an array is in C-contiguous order, we can use the function `np.ascontiguousarray()`. This function converts the array into the correct memory layout if needed, though as already mentioned, NumPy arrays are built by default in this layout.\n",
    "To check the memory layout of an array, we can inspect its flags using `ndarray.flags`."
   ]
  },
  {
   "cell_type": "markdown",
   "id": "610c9778-6267-4fe5-866f-9d907824acb8",
   "metadata": {},
   "source": [
    "Populating an array with 10 million random floats in the interval [0,1)"
   ]
  },
  {
   "cell_type": "code",
   "execution_count": 268,
   "id": "78415d67-e371-46c6-963b-c3faca8d36b2",
   "metadata": {},
   "outputs": [],
   "source": [
    "rng = np.random.default_rng(seed=123)\n",
    "a = rng.random(size=10000000)"
   ]
  },
  {
   "cell_type": "code",
   "execution_count": 269,
   "id": "2722c891-9917-4a71-a92a-7eaaf5c1a210",
   "metadata": {},
   "outputs": [
    {
     "data": {
      "text/plain": [
       "  C_CONTIGUOUS : True\n",
       "  F_CONTIGUOUS : True\n",
       "  OWNDATA : True\n",
       "  WRITEABLE : True\n",
       "  ALIGNED : True\n",
       "  WRITEBACKIFCOPY : False"
      ]
     },
     "execution_count": 269,
     "metadata": {},
     "output_type": "execute_result"
    }
   ],
   "source": [
    "a.flags"
   ]
  },
  {
   "cell_type": "markdown",
   "id": "3d901cc0-0d97-4f60-8f3e-37072fa6d1b7",
   "metadata": {},
   "source": [
    "More information on memory layout of ndarrays can be found in the official documentation here: https://numpy.org/doc/stable/reference/arrays.ndarray.html"
   ]
  }
 ],
 "metadata": {
  "kernelspec": {
   "display_name": "Python 3 (ipykernel)",
   "language": "python",
   "name": "python3"
  },
  "language_info": {
   "codemirror_mode": {
    "name": "ipython",
    "version": 3
   },
   "file_extension": ".py",
   "mimetype": "text/x-python",
   "name": "python",
   "nbconvert_exporter": "python",
   "pygments_lexer": "ipython3",
   "version": "3.12.4"
  }
 },
 "nbformat": 4,
 "nbformat_minor": 5
}
